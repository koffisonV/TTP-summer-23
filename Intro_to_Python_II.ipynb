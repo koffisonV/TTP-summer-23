{
  "nbformat": 4,
  "nbformat_minor": 0,
  "metadata": {
    "colab": {
      "provenance": [],
      "authorship_tag": "ABX9TyMwvAxYaBdTbHYvj6JRckFU",
      "include_colab_link": true
    },
    "kernelspec": {
      "name": "python3",
      "display_name": "Python 3"
    },
    "language_info": {
      "name": "python"
    }
  },
  "cells": [
    {
      "cell_type": "markdown",
      "metadata": {
        "id": "view-in-github",
        "colab_type": "text"
      },
      "source": [
        "<a href=\"https://colab.research.google.com/github/koffisonV/TTP-summer-23/blob/main/Intro_to_Python_II.ipynb\" target=\"_parent\"><img src=\"https://colab.research.google.com/assets/colab-badge.svg\" alt=\"Open In Colab\"/></a>"
      ]
    },
    {
      "cell_type": "markdown",
      "source": [
        "## Boolean Operators"
      ],
      "metadata": {
        "id": "J7nWyKmq8Nm2"
      }
    },
    {
      "cell_type": "code",
      "source": [
        "is_day = True # declaration of boolean variable to True\n",
        "is_night = False # declaration of boolean variable to False\n",
        "\n",
        "print(is_day)"
      ],
      "metadata": {
        "colab": {
          "base_uri": "https://localhost:8080/"
        },
        "id": "7JyykAoP9BZ6",
        "outputId": "6fff5c46-403b-4db5-88e5-bbb8ea85410a"
      },
      "execution_count": null,
      "outputs": [
        {
          "output_type": "stream",
          "name": "stdout",
          "text": [
            "True\n"
          ]
        }
      ]
    },
    {
      "cell_type": "markdown",
      "source": [
        "## Comparison Operators"
      ],
      "metadata": {
        "id": "25vzYXag9BXU"
      }
    },
    {
      "cell_type": "code",
      "source": [
        "x, y = 9,25\n",
        "# In this line, I am defininf 2 numbers"
      ],
      "metadata": {
        "id": "JfBOUFIVYVW8"
      },
      "execution_count": null,
      "outputs": []
    },
    {
      "cell_type": "code",
      "source": [
        "print(x==y) # is x equal to y\n",
        "# In this line, we are asking the computer if 9 is -> (==) 25 which returns false because those two numbers are different"
      ],
      "metadata": {
        "colab": {
          "base_uri": "https://localhost:8080/"
        },
        "id": "wJvnkXt4YVUl",
        "outputId": "49c02a09-233e-4d97-909a-32f354e2e0dd"
      },
      "execution_count": null,
      "outputs": [
        {
          "output_type": "stream",
          "name": "stdout",
          "text": [
            "False\n"
          ]
        }
      ]
    },
    {
      "cell_type": "code",
      "source": [
        "print(x != y)\n",
        "# In this line I am asking the computer if 9 is different -> (!=) from 25 by using the not operator (!=) which returns True"
      ],
      "metadata": {
        "colab": {
          "base_uri": "https://localhost:8080/"
        },
        "id": "dTJQoA8wIay3",
        "outputId": "e30302e8-a3f6-42c3-d88e-523702c13022"
      },
      "execution_count": null,
      "outputs": [
        {
          "output_type": "stream",
          "name": "stdout",
          "text": [
            "True\n"
          ]
        }
      ]
    },
    {
      "cell_type": "code",
      "source": [
        "print (x > y)\n",
        "# In this line, we are asking if 9 is greater than -> (>) 25 which returns false because 25 is greater than 9"
      ],
      "metadata": {
        "colab": {
          "base_uri": "https://localhost:8080/"
        },
        "id": "ScHHzxY_Iavu",
        "outputId": "2e61c6ee-92ef-4980-df49-b3a165f68646"
      },
      "execution_count": null,
      "outputs": [
        {
          "output_type": "stream",
          "name": "stdout",
          "text": [
            "False\n"
          ]
        }
      ]
    },
    {
      "cell_type": "code",
      "source": [
        "print (x < y)\n",
        "# In this line we are asking if 9 is less -> (<) than 25 which return True"
      ],
      "metadata": {
        "colab": {
          "base_uri": "https://localhost:8080/"
        },
        "id": "7XV6ByioIatN",
        "outputId": "ceabfe89-7c8e-4bac-e70d-19623c95b435"
      },
      "execution_count": null,
      "outputs": [
        {
          "output_type": "stream",
          "name": "stdout",
          "text": [
            "True\n"
          ]
        }
      ]
    },
    {
      "cell_type": "markdown",
      "source": [
        "## Logical operators"
      ],
      "metadata": {
        "id": "16EBFiAJYVSA"
      }
    },
    {
      "cell_type": "code",
      "source": [
        "x=9\n",
        "y=25\n",
        "# We are declaring 2 new variables x and y"
      ],
      "metadata": {
        "id": "shMDovknYVPJ"
      },
      "execution_count": null,
      "outputs": []
    },
    {
      "cell_type": "code",
      "source": [
        "x"
      ],
      "metadata": {
        "colab": {
          "base_uri": "https://localhost:8080/"
        },
        "id": "4wIIYMkTYVMx",
        "outputId": "43d2029d-289f-4e61-f571-97cfb2bccf4d"
      },
      "execution_count": null,
      "outputs": [
        {
          "output_type": "execute_result",
          "data": {
            "text/plain": [
              "9"
            ]
          },
          "metadata": {},
          "execution_count": 9
        }
      ]
    },
    {
      "cell_type": "code",
      "source": [
        "y"
      ],
      "metadata": {
        "colab": {
          "base_uri": "https://localhost:8080/"
        },
        "id": "923ElBNhwKyf",
        "outputId": "5183bc76-458d-4b43-b549-f5b3a78190fc"
      },
      "execution_count": null,
      "outputs": [
        {
          "output_type": "execute_result",
          "data": {
            "text/plain": [
              "25"
            ]
          },
          "metadata": {},
          "execution_count": 10
        }
      ]
    },
    {
      "cell_type": "code",
      "source": [
        "print(x > 5 and y < 30)\n",
        "# We are using 'and' from the truth table to see if these 2 statement are\n",
        "# true"
      ],
      "metadata": {
        "colab": {
          "base_uri": "https://localhost:8080/"
        },
        "id": "bKAQwyUnwKvk",
        "outputId": "cbd5aafa-397f-46d5-daa7-e3dfb34b0545"
      },
      "execution_count": null,
      "outputs": [
        {
          "output_type": "stream",
          "name": "stdout",
          "text": [
            "True\n"
          ]
        }
      ]
    },
    {
      "cell_type": "code",
      "source": [
        "print (x > 5 or y < 30)\n",
        "# We are using 'or' from the truth table to see if 1 of the 2 statement\n",
        "# is true"
      ],
      "metadata": {
        "colab": {
          "base_uri": "https://localhost:8080/"
        },
        "id": "cRBfoygpJdIf",
        "outputId": "00b2eddf-2d27-404a-bd47-99e81f9b1a2c"
      },
      "execution_count": null,
      "outputs": [
        {
          "output_type": "stream",
          "name": "stdout",
          "text": [
            "True\n"
          ]
        }
      ]
    },
    {
      "cell_type": "code",
      "source": [
        "print(not(x > 5))\n",
        "# In this code, we are saying that the statement if not true by wraping\n",
        "# the stating in a not() format"
      ],
      "metadata": {
        "colab": {
          "base_uri": "https://localhost:8080/"
        },
        "id": "2xW6_MJKJift",
        "outputId": "40fc52be-5150-424c-d57f-722341fe9067"
      },
      "execution_count": null,
      "outputs": [
        {
          "output_type": "stream",
          "name": "stdout",
          "text": [
            "False\n"
          ]
        }
      ]
    },
    {
      "cell_type": "code",
      "source": [
        "result = 5.3 * 8.58 >= 3.23 * 15.3\n",
        "print(result)\n",
        "# Here, we are performing a set of operations to determine whether\n",
        "# the statement is true or not"
      ],
      "metadata": {
        "colab": {
          "base_uri": "https://localhost:8080/"
        },
        "id": "8IS6izAZJp9x",
        "outputId": "13227b1e-e621-4f59-d8a6-ab7743072c54"
      },
      "execution_count": null,
      "outputs": [
        {
          "output_type": "stream",
          "name": "stdout",
          "text": [
            "False\n"
          ]
        }
      ]
    },
    {
      "cell_type": "code",
      "source": [
        "print(\"cat\" == \"cat\")\n",
        "# We are checking the 2 string are identical by\n",
        "# using the is -> (==) operator"
      ],
      "metadata": {
        "colab": {
          "base_uri": "https://localhost:8080/"
        },
        "id": "igIe9d99Jsr_",
        "outputId": "e638ad27-cc72-437a-ce2a-ecbe22bc6185"
      },
      "execution_count": null,
      "outputs": [
        {
          "output_type": "stream",
          "name": "stdout",
          "text": [
            "True\n"
          ]
        }
      ]
    },
    {
      "cell_type": "code",
      "source": [
        "print(\"cat\" is not \"dog\")\n",
        "# In this code, we are declining that cat is not dog. Representation of is not -> (!=)"
      ],
      "metadata": {
        "colab": {
          "base_uri": "https://localhost:8080/"
        },
        "id": "5PMLHbWnJshX",
        "outputId": "9b37d01f-3860-42a6-c3b1-24dfdccc78a9"
      },
      "execution_count": null,
      "outputs": [
        {
          "output_type": "stream",
          "name": "stdout",
          "text": [
            "True\n"
          ]
        },
        {
          "output_type": "stream",
          "name": "stderr",
          "text": [
            "<>:1: SyntaxWarning: \"is not\" with a literal. Did you mean \"!=\"?\n",
            "<>:1: SyntaxWarning: \"is not\" with a literal. Did you mean \"!=\"?\n",
            "<ipython-input-16-8872c811f075>:1: SyntaxWarning: \"is not\" with a literal. Did you mean \"!=\"?\n",
            "  print(\"cat\" is not \"dog\")\n"
          ]
        }
      ]
    },
    {
      "cell_type": "code",
      "source": [
        "fruit = \"banana\"\n",
        "print(\"na\" in fruit) # checking if the characters 'na' are in the string 'banana' which is true\n",
        "print(\"na\" not in fruit) # checking if the characters 'na' are not in the string 'banana' which is false"
      ],
      "metadata": {
        "colab": {
          "base_uri": "https://localhost:8080/"
        },
        "id": "vMuT_qv_JpqR",
        "outputId": "173de10c-9b92-4794-f957-c33e7304cdfa"
      },
      "execution_count": null,
      "outputs": [
        {
          "output_type": "stream",
          "name": "stdout",
          "text": [
            "True\n",
            "False\n"
          ]
        }
      ]
    },
    {
      "cell_type": "markdown",
      "source": [
        "# Collection Data Types"
      ],
      "metadata": {
        "id": "3yZt6RZxwKla"
      }
    },
    {
      "cell_type": "markdown",
      "source": [
        "## List"
      ],
      "metadata": {
        "id": "Vyls1mNGKgH5"
      }
    },
    {
      "cell_type": "code",
      "source": [
        "names = [\"Alice\",\"Bob\",\"Carl\", \"Dan\"]\n",
        "print(names[0])\n",
        "# In this code, we are printing the element at the 0 position in the array names[]"
      ],
      "metadata": {
        "id": "jXah6mqwwKgP",
        "colab": {
          "base_uri": "https://localhost:8080/"
        },
        "outputId": "ce59884b-b717-43a4-9169-11ab2c7a8a93"
      },
      "execution_count": null,
      "outputs": [
        {
          "output_type": "stream",
          "name": "stdout",
          "text": [
            "Alice\n"
          ]
        }
      ]
    },
    {
      "cell_type": "code",
      "source": [
        "print(names[0][2])\n",
        "# In this code we are returing the 2nd character in the 1st element of the array names[]"
      ],
      "metadata": {
        "colab": {
          "base_uri": "https://localhost:8080/"
        },
        "id": "QplvSPbIKDrV",
        "outputId": "65a954fb-337b-40e0-d52b-ac7ff273f4ae"
      },
      "execution_count": null,
      "outputs": [
        {
          "output_type": "stream",
          "name": "stdout",
          "text": [
            "i\n"
          ]
        }
      ]
    },
    {
      "cell_type": "code",
      "source": [
        "print(names[-2])\n",
        "# In this code, we are return the 2nd element in the array starting from the end of the array name[]"
      ],
      "metadata": {
        "colab": {
          "base_uri": "https://localhost:8080/"
        },
        "id": "Py9NOkCxKDi_",
        "outputId": "0b7c13ea-d0fa-4c43-d6fd-a0da6d8f62f3"
      },
      "execution_count": null,
      "outputs": [
        {
          "output_type": "stream",
          "name": "stdout",
          "text": [
            "Carl\n"
          ]
        }
      ]
    },
    {
      "cell_type": "code",
      "source": [
        "print(names[1:3])\n",
        "# In this code, we are printing the items starting from position 1 to position 3"
      ],
      "metadata": {
        "colab": {
          "base_uri": "https://localhost:8080/"
        },
        "id": "AViX_F4BKDgI",
        "outputId": "4d200dae-44b3-4f8e-cb7a-de7ff874865f"
      },
      "execution_count": null,
      "outputs": [
        {
          "output_type": "stream",
          "name": "stdout",
          "text": [
            "['Bob', 'Carl']\n"
          ]
        }
      ]
    },
    {
      "cell_type": "code",
      "source": [
        "print(names[0:-1])\n",
        "# Here, we are printing the element in the 1st position to the 2nd before last"
      ],
      "metadata": {
        "colab": {
          "base_uri": "https://localhost:8080/"
        },
        "id": "slDgYFU3KDdQ",
        "outputId": "94f7304c-59e5-43b6-b26f-47fb6a98b68a"
      },
      "execution_count": null,
      "outputs": [
        {
          "output_type": "stream",
          "name": "stdout",
          "text": [
            "['Alice', 'Bob', 'Carl']\n"
          ]
        }
      ]
    },
    {
      "cell_type": "code",
      "source": [
        "print(names[0:])\n",
        "# In this line, we are printing the element in the 0 position to the last since there was no 2nd parameter"
      ],
      "metadata": {
        "colab": {
          "base_uri": "https://localhost:8080/"
        },
        "id": "v1FzMVOuKTNE",
        "outputId": "62cb0177-2d2b-4be4-a991-c8114f16a3a2"
      },
      "execution_count": null,
      "outputs": [
        {
          "output_type": "stream",
          "name": "stdout",
          "text": [
            "['Alice', 'Bob', 'Carl', 'Dan']\n"
          ]
        }
      ]
    },
    {
      "cell_type": "code",
      "source": [
        "names[1] = \"Jane\"\n",
        "print(names)\n",
        "# In this code, we're replacing the element in the 1st position 'Bob' with 'Jane"
      ],
      "metadata": {
        "colab": {
          "base_uri": "https://localhost:8080/"
        },
        "id": "Y2nBkj8vKTCb",
        "outputId": "948961b4-1d03-4d62-90aa-5b2698f8eae3"
      },
      "execution_count": null,
      "outputs": [
        {
          "output_type": "stream",
          "name": "stdout",
          "text": [
            "['Alice', 'Jane', 'Carl', 'Dan']\n"
          ]
        }
      ]
    },
    {
      "cell_type": "code",
      "source": [
        "# Class exercise\n",
        "# Ask for 10 items and store in a list\n",
        "\n",
        "# Method 1 using split() method\n",
        "list2 = [] # define an empty array\n",
        "data = input(\"Enter 10 items of your choice: \") # user input of their choice\n",
        "list2 = data.split() # split() method to\n",
        "print(list2)\n",
        "# The code above uses the split() method with no argument to seperate the list of items that the user input into an array.\n",
        "\n",
        "\n",
        "# Method 2 using for loop\n",
        "# list1=[]\n",
        "# for x in range(10):\n",
        "#   data = input(\"Enter 10 items of your choice: \")\n",
        "#   list1.append(data)\n",
        "# print(list1)"
      ],
      "metadata": {
        "colab": {
          "base_uri": "https://localhost:8080/"
        },
        "id": "seeIK5LYwKbh",
        "outputId": "7e7afabc-6ca5-4d7a-817f-59c9a80d8aa8"
      },
      "execution_count": null,
      "outputs": [
        {
          "output_type": "stream",
          "name": "stdout",
          "text": [
            "Enter 10 items of your choice: 1 2 3 4 5 6 7 8 9 09\n",
            "['1', '2', '3', '4', '5', '6', '7', '8', '9', '09']\n"
          ]
        }
      ]
    },
    {
      "cell_type": "markdown",
      "source": [
        "#### Nested Lists"
      ],
      "metadata": {
        "id": "tWebwRGEwKZM"
      }
    },
    {
      "cell_type": "code",
      "source": [
        "matrix = [[1,2,3],[4,5,6],[7,8,9]] # this array is made of multiple list"
      ],
      "metadata": {
        "id": "GiX7l2IvRIp6"
      },
      "execution_count": null,
      "outputs": []
    },
    {
      "cell_type": "code",
      "source": [
        "print(matrix) # printing the matrix list"
      ],
      "metadata": {
        "colab": {
          "base_uri": "https://localhost:8080/"
        },
        "id": "1PrhjBH-RrDX",
        "outputId": "968b957a-d40d-41fa-c395-a069c7572588"
      },
      "execution_count": null,
      "outputs": [
        {
          "output_type": "stream",
          "name": "stdout",
          "text": [
            "[[1, 2, 3], [4, 5, 6], [7, 8, 9]]\n"
          ]
        }
      ]
    },
    {
      "cell_type": "code",
      "source": [
        "print(matrix[0][1]) # here we are accessing the element at position 1 of the\n",
        "# list matrix in position 0"
      ],
      "metadata": {
        "colab": {
          "base_uri": "https://localhost:8080/"
        },
        "id": "QSjtzqYvRrBC",
        "outputId": "fdbcb4d5-776d-4166-ea72-38a543b76c37"
      },
      "execution_count": null,
      "outputs": [
        {
          "output_type": "stream",
          "name": "stdout",
          "text": [
            "2\n"
          ]
        }
      ]
    },
    {
      "cell_type": "code",
      "source": [
        "matrix = [[[1,2],[3,4,6,4,6],[5,6],[7,8]],[3]] # this is a nested list\n",
        "print(matrix) # we are printing the whole list\n",
        "print(matrix[0][1][0]) # we are accessing the first element of the second element\n",
        "# in index 0 of the list matrix"
      ],
      "metadata": {
        "colab": {
          "base_uri": "https://localhost:8080/"
        },
        "id": "P1jw0vMFRIgc",
        "outputId": "cdfffa8a-8370-489a-cbd7-9bddd3410c70"
      },
      "execution_count": null,
      "outputs": [
        {
          "output_type": "stream",
          "name": "stdout",
          "text": [
            "[[[1, 2], [3, 4, 6, 4, 6], [5, 6], [7, 8]], [3]]\n",
            "3\n"
          ]
        }
      ]
    },
    {
      "cell_type": "markdown",
      "source": [
        "#### List Functions"
      ],
      "metadata": {
        "id": "EMXitWBYRIeH"
      }
    },
    {
      "cell_type": "code",
      "source": [
        "pets = ['cat', 'dog', 'parrot'] # we declared a list that has 3 items in it\n",
        "print(len(pets)) # here we print the length or how many elements are in the list"
      ],
      "metadata": {
        "colab": {
          "base_uri": "https://localhost:8080/"
        },
        "id": "cM6lAOCXRw_v",
        "outputId": "b672403b-0204-48fc-f3f2-9ede2b22ca80"
      },
      "execution_count": null,
      "outputs": [
        {
          "output_type": "stream",
          "name": "stdout",
          "text": [
            "3\n"
          ]
        }
      ]
    },
    {
      "cell_type": "code",
      "source": [
        "print(pets)\n",
        "pets.append('fish') # we use append() to add an element to the end of the list\n",
        "print(pets)\n",
        "# Now instead of 3 elements, we have a list of 4 elements after adding fish"
      ],
      "metadata": {
        "colab": {
          "base_uri": "https://localhost:8080/"
        },
        "id": "hoy642z_S2AT",
        "outputId": "696fe021-fc4e-4d6b-9ac3-23c81d598c62"
      },
      "execution_count": null,
      "outputs": [
        {
          "output_type": "stream",
          "name": "stdout",
          "text": [
            "['cat', 'dog', 'parrot']\n",
            "['cat', 'dog', 'parrot', 'fish']\n"
          ]
        }
      ]
    },
    {
      "cell_type": "code",
      "source": [
        "dir(pets) # this showcases what function can be used on the list pets"
      ],
      "metadata": {
        "colab": {
          "base_uri": "https://localhost:8080/"
        },
        "id": "YoQh1X1_S180",
        "outputId": "7e16cad5-297e-413c-9391-3d5f3269eb69"
      },
      "execution_count": null,
      "outputs": [
        {
          "output_type": "execute_result",
          "data": {
            "text/plain": [
              "['__add__',\n",
              " '__class__',\n",
              " '__class_getitem__',\n",
              " '__contains__',\n",
              " '__delattr__',\n",
              " '__delitem__',\n",
              " '__dir__',\n",
              " '__doc__',\n",
              " '__eq__',\n",
              " '__format__',\n",
              " '__ge__',\n",
              " '__getattribute__',\n",
              " '__getitem__',\n",
              " '__gt__',\n",
              " '__hash__',\n",
              " '__iadd__',\n",
              " '__imul__',\n",
              " '__init__',\n",
              " '__init_subclass__',\n",
              " '__iter__',\n",
              " '__le__',\n",
              " '__len__',\n",
              " '__lt__',\n",
              " '__mul__',\n",
              " '__ne__',\n",
              " '__new__',\n",
              " '__reduce__',\n",
              " '__reduce_ex__',\n",
              " '__repr__',\n",
              " '__reversed__',\n",
              " '__rmul__',\n",
              " '__setattr__',\n",
              " '__setitem__',\n",
              " '__sizeof__',\n",
              " '__str__',\n",
              " '__subclasshook__',\n",
              " 'append',\n",
              " 'clear',\n",
              " 'copy',\n",
              " 'count',\n",
              " 'extend',\n",
              " 'index',\n",
              " 'insert',\n",
              " 'pop',\n",
              " 'remove',\n",
              " 'reverse',\n",
              " 'sort']"
            ]
          },
          "metadata": {},
          "execution_count": 36
        }
      ]
    },
    {
      "cell_type": "code",
      "source": [
        "pets.insert(1, 'hamster')\n",
        "print(pets)\n",
        "# We are manipulating the list by adding hamster to the 1st\n",
        "# position of the list"
      ],
      "metadata": {
        "colab": {
          "base_uri": "https://localhost:8080/"
        },
        "id": "yzv8iS8hS15a",
        "outputId": "73be53fb-e31f-4d6a-f7b2-19e960791a4a"
      },
      "execution_count": null,
      "outputs": [
        {
          "output_type": "stream",
          "name": "stdout",
          "text": [
            "['cat', 'hamster', 'dog', 'parrot', 'fish']\n"
          ]
        }
      ]
    },
    {
      "cell_type": "code",
      "source": [
        "print('cat' in pets)\n",
        "# This statement checks whether the element 'cat' is present in the list pet\n",
        "# which return true"
      ],
      "metadata": {
        "colab": {
          "base_uri": "https://localhost:8080/"
        },
        "id": "Az-2hBRhS12C",
        "outputId": "bc7d03e6-5bab-4516-ad59-24cf3b19075d"
      },
      "execution_count": null,
      "outputs": [
        {
          "output_type": "stream",
          "name": "stdout",
          "text": [
            "True\n"
          ]
        }
      ]
    },
    {
      "cell_type": "code",
      "source": [
        "print('tiger' in pets)\n",
        "# This checks if the element 'tiger' is in list which is false"
      ],
      "metadata": {
        "colab": {
          "base_uri": "https://localhost:8080/"
        },
        "id": "aTz9y7SeT3Uh",
        "outputId": "20381557-4dd5-4f3c-bf43-5d764191f276"
      },
      "execution_count": null,
      "outputs": [
        {
          "output_type": "stream",
          "name": "stdout",
          "text": [
            "False\n"
          ]
        }
      ]
    },
    {
      "cell_type": "code",
      "source": [
        "pets.remove('fish') # the remove() is used to remove an element in the list"
      ],
      "metadata": {
        "id": "T50sxpGWT3Rk"
      },
      "execution_count": null,
      "outputs": []
    },
    {
      "cell_type": "code",
      "source": [
        "pets # we print the list again to make sure that the\n",
        "# element 'fish' is no longer in the list"
      ],
      "metadata": {
        "colab": {
          "base_uri": "https://localhost:8080/"
        },
        "id": "vGC7oIGPT3Os",
        "outputId": "f79b414f-e257-482c-a74a-4c76c10f998e"
      },
      "execution_count": null,
      "outputs": [
        {
          "output_type": "execute_result",
          "data": {
            "text/plain": [
              "['cat', 'hamster', 'dog', 'parrot']"
            ]
          },
          "metadata": {},
          "execution_count": 41
        }
      ]
    },
    {
      "cell_type": "code",
      "source": [
        "pets.remove(pets[1]) # we passed the element at the 1st indexe to remove\n",
        "# it from the list"
      ],
      "metadata": {
        "id": "A200PFaST3MD"
      },
      "execution_count": null,
      "outputs": []
    },
    {
      "cell_type": "code",
      "source": [
        "pets # we print the list again to make sure that it is no\n",
        "# longer in the list"
      ],
      "metadata": {
        "colab": {
          "base_uri": "https://localhost:8080/"
        },
        "id": "p5VnCZC1T3IO",
        "outputId": "bc36cc50-553f-4284-d0b8-1e74f3665f51"
      },
      "execution_count": null,
      "outputs": [
        {
          "output_type": "execute_result",
          "data": {
            "text/plain": [
              "['cat', 'dog', 'parrot']"
            ]
          },
          "metadata": {},
          "execution_count": 43
        }
      ]
    },
    {
      "cell_type": "code",
      "source": [
        "del pets[1] # this command delete the element at position 1 in the list pets[]"
      ],
      "metadata": {
        "id": "kbJewa2KT23Z"
      },
      "execution_count": null,
      "outputs": []
    },
    {
      "cell_type": "code",
      "source": [
        "pets.clear() # this clears all the element in the list"
      ],
      "metadata": {
        "id": "sLCClcidUsKZ"
      },
      "execution_count": null,
      "outputs": []
    },
    {
      "cell_type": "code",
      "source": [
        "pets = None"
      ],
      "metadata": {
        "id": "KSmqWd4qUsAl"
      },
      "execution_count": null,
      "outputs": []
    },
    {
      "cell_type": "markdown",
      "source": [
        "#### Iterators"
      ],
      "metadata": {
        "id": "9JSW1uDGUr9b"
      }
    },
    {
      "cell_type": "code",
      "source": [
        "my_cat = \"Fluffy\" # we define a string variable\n",
        "my_iterator = iter(my_cat) # this variable holds the next element we we run iter"
      ],
      "metadata": {
        "id": "4ZABuULLVqt2"
      },
      "execution_count": null,
      "outputs": []
    },
    {
      "cell_type": "code",
      "source": [
        "print(next(my_iterator)) # we are printing the first iteration of character\n",
        "# in the string which is F"
      ],
      "metadata": {
        "colab": {
          "base_uri": "https://localhost:8080/"
        },
        "id": "ekB9tXdFVqqd",
        "outputId": "21d29fde-843a-4b1a-85bd-14c2a9d70054"
      },
      "execution_count": null,
      "outputs": [
        {
          "output_type": "stream",
          "name": "stdout",
          "text": [
            "F\n"
          ]
        }
      ]
    },
    {
      "cell_type": "code",
      "source": [
        "print(next(my_iterator)) # we print the next iteration of element which is l"
      ],
      "metadata": {
        "colab": {
          "base_uri": "https://localhost:8080/"
        },
        "id": "EAi5kSCvVozg",
        "outputId": "eef09f8f-7602-45fb-ed3a-097b13502faf"
      },
      "execution_count": null,
      "outputs": [
        {
          "output_type": "stream",
          "name": "stdout",
          "text": [
            "l\n"
          ]
        }
      ]
    },
    {
      "cell_type": "code",
      "source": [
        "print(next(my_iterator)) # we print the next iteration returing u"
      ],
      "metadata": {
        "colab": {
          "base_uri": "https://localhost:8080/"
        },
        "id": "EA0vC1PpVov2",
        "outputId": "56eaaf2f-1688-4ce0-8446-a35795171d22"
      },
      "execution_count": null,
      "outputs": [
        {
          "output_type": "stream",
          "name": "stdout",
          "text": [
            "u\n"
          ]
        }
      ]
    },
    {
      "cell_type": "markdown",
      "source": [
        "## Tuples"
      ],
      "metadata": {
        "id": "A8CsBovhRIYw"
      }
    },
    {
      "cell_type": "code",
      "source": [
        "dinner = ('chicken', 'fries', 18) # this is a tuple variable\n",
        "print(dinner)\n",
        "print(type(dinner)) # we use type() to check what type of variable this is"
      ],
      "metadata": {
        "colab": {
          "base_uri": "https://localhost:8080/"
        },
        "id": "tn8rkGUjS43P",
        "outputId": "375a4516-fea6-4371-8308-279cc480b392"
      },
      "execution_count": null,
      "outputs": [
        {
          "output_type": "stream",
          "name": "stdout",
          "text": [
            "('chicken', 'fries', 18)\n",
            "<class 'tuple'>\n"
          ]
        }
      ]
    },
    {
      "cell_type": "code",
      "source": [
        "breakfast = ('eggs', ) # a tuple can have only 1 element\n",
        "print(breakfast)\n",
        "print(type(breakfast))"
      ],
      "metadata": {
        "colab": {
          "base_uri": "https://localhost:8080/"
        },
        "id": "w2BmF6zGkR0E",
        "outputId": "309e8116-2eaa-4522-a09f-cf9014c8f585"
      },
      "execution_count": null,
      "outputs": [
        {
          "output_type": "stream",
          "name": "stdout",
          "text": [
            "('eggs',)\n",
            "<class 'tuple'>\n"
          ]
        }
      ]
    },
    {
      "cell_type": "code",
      "source": [
        "lunch = () # this is a tuple and we distinguish it with the ()\n",
        "print(lunch)\n",
        "print(type(lunch))"
      ],
      "metadata": {
        "colab": {
          "base_uri": "https://localhost:8080/"
        },
        "id": "Ctbi87rwkRxf",
        "outputId": "b88a84ef-deb2-47aa-c167-c384d7deef8e"
      },
      "execution_count": null,
      "outputs": [
        {
          "output_type": "stream",
          "name": "stdout",
          "text": [
            "()\n",
            "<class 'tuple'>\n"
          ]
        }
      ]
    },
    {
      "cell_type": "code",
      "source": [
        "my_desk = (\"laptop\", \"mouse\", \"paper\", \"pen\")\n",
        "print(my_desk[1]) # we are accessing the element at position 1 in the list\n",
        "print(my_desk[-1]) # we are accessing the last element in the tuple"
      ],
      "metadata": {
        "colab": {
          "base_uri": "https://localhost:8080/"
        },
        "id": "tEjOb9AckRu3",
        "outputId": "5c6230df-0781-4dc6-d12f-b3bfbaa532b4"
      },
      "execution_count": null,
      "outputs": [
        {
          "output_type": "stream",
          "name": "stdout",
          "text": [
            "mouse\n",
            "pen\n"
          ]
        }
      ]
    },
    {
      "cell_type": "code",
      "source": [
        "new_desk = my_desk[1:3] # we are creating a new tuple by selecting the element\n",
        "# from position 1 to 3 (excluding 3)\n",
        "print(new_desk) # we print the new tuple variable\n",
        "print(type(new_desk)) # we check to see if the new variable is still a tuple"
      ],
      "metadata": {
        "colab": {
          "base_uri": "https://localhost:8080/"
        },
        "id": "ajtuXSsdkRsR",
        "outputId": "847a72c3-d975-47c9-d05d-48e66c384136"
      },
      "execution_count": null,
      "outputs": [
        {
          "output_type": "stream",
          "name": "stdout",
          "text": [
            "('mouse', 'paper')\n",
            "<class 'tuple'>\n"
          ]
        }
      ]
    },
    {
      "cell_type": "code",
      "source": [
        "print(my_desk[1:]) # this command will print the list starting from index 1 to the end since\n",
        "# no other element was assigned"
      ],
      "metadata": {
        "colab": {
          "base_uri": "https://localhost:8080/"
        },
        "id": "vDAXzqprkRo_",
        "outputId": "67bd983e-eaab-492b-fdcd-4df8898ebab8"
      },
      "execution_count": null,
      "outputs": [
        {
          "output_type": "stream",
          "name": "stdout",
          "text": [
            "('mouse', 'paper', 'pen')\n"
          ]
        }
      ]
    },
    {
      "cell_type": "code",
      "source": [
        "my_desk = (\"laptop\", \"mouse\", \"paper\", \"pen\")\n",
        "new_desk = my_desk[1:3]\n",
        "print(new_desk)\n",
        "print(type(new_desk))"
      ],
      "metadata": {
        "colab": {
          "base_uri": "https://localhost:8080/"
        },
        "id": "uzVDgC0qkiZg",
        "outputId": "32794a63-6627-4688-df0d-f7b1dc9458c8"
      },
      "execution_count": null,
      "outputs": [
        {
          "output_type": "stream",
          "name": "stdout",
          "text": [
            "('mouse', 'paper')\n",
            "<class 'tuple'>\n"
          ]
        }
      ]
    },
    {
      "cell_type": "code",
      "source": [
        "new_desk = my_desk + (\"coffee\", ) # we are adding 'coffee' to the tuple new_desk\n",
        "print(new_desk)\n",
        "print(type(new_desk)) # we print to see if 'coffee' is added to the tuple"
      ],
      "metadata": {
        "colab": {
          "base_uri": "https://localhost:8080/"
        },
        "id": "dS1H6pRCkiXc",
        "outputId": "77f70867-9d9c-4ff8-b73c-d576db09c51f"
      },
      "execution_count": null,
      "outputs": [
        {
          "output_type": "stream",
          "name": "stdout",
          "text": [
            "('laptop', 'mouse', 'paper', 'pen', 'coffee')\n",
            "<class 'tuple'>\n"
          ]
        }
      ]
    },
    {
      "cell_type": "code",
      "source": [
        "my_desk_list = list(my_desk) # this new variable turns the tuple my_desk into a list"
      ],
      "metadata": {
        "id": "HZrUaV4FkiU1"
      },
      "execution_count": null,
      "outputs": []
    },
    {
      "cell_type": "markdown",
      "source": [
        "#### Tuples use cases"
      ],
      "metadata": {
        "id": "Y-hH4NciS405"
      }
    },
    {
      "cell_type": "code",
      "source": [
        "db = ('Oracle', 'SQL')"
      ],
      "metadata": {
        "id": "5peOVs8cS4yZ"
      },
      "execution_count": null,
      "outputs": []
    },
    {
      "cell_type": "code",
      "source": [
        "new_db = db + ('username','password') # we are adding those 2 element to the tuple\n",
        "print(new_db)\n",
        "print(type(new_db))"
      ],
      "metadata": {
        "colab": {
          "base_uri": "https://localhost:8080/"
        },
        "id": "Hdg_f3cKZv3n",
        "outputId": "f4d4fbc1-2548-414f-9c17-4e29e4120d42"
      },
      "execution_count": null,
      "outputs": [
        {
          "output_type": "stream",
          "name": "stdout",
          "text": [
            "('Oracle', 'SQL', 'username', 'password')\n",
            "<class 'tuple'>\n"
          ]
        }
      ]
    },
    {
      "cell_type": "code",
      "source": [
        "friend1 = ('Alex', 25, False) # declaration of variable\n",
        "friend2 = ('Diane', 23, False) # declaration of variable\n",
        "friend3 = ('Michael', 32, True) # declaration of variable"
      ],
      "metadata": {
        "id": "tfZoN3tMkxGr"
      },
      "execution_count": null,
      "outputs": []
    },
    {
      "cell_type": "code",
      "source": [
        "print(friend1)\n",
        "print(friend2)\n",
        "print(friend3)"
      ],
      "metadata": {
        "colab": {
          "base_uri": "https://localhost:8080/"
        },
        "id": "0ci2etz0kxCz",
        "outputId": "986e1d53-63f2-4b69-f0b2-3c0f4aa818ac"
      },
      "execution_count": null,
      "outputs": [
        {
          "output_type": "stream",
          "name": "stdout",
          "text": [
            "('Alex', 25, False)\n",
            "('Diane', 23, False)\n",
            "('Michael', 32, True)\n"
          ]
        }
      ]
    },
    {
      "cell_type": "code",
      "source": [
        "friend2 = (\"Erica\",) + friend2[1:] # we are changing the first element\n",
        "# and slice the tuple starting from position 1 to the end\n",
        "print(friend2)\n",
        "print(type(friend2)) # we check what type of varible is friend2"
      ],
      "metadata": {
        "colab": {
          "base_uri": "https://localhost:8080/"
        },
        "id": "3XIpe7sxkw_H",
        "outputId": "0256c476-5864-4621-b1ff-da9398601294"
      },
      "execution_count": null,
      "outputs": [
        {
          "output_type": "stream",
          "name": "stdout",
          "text": [
            "('Erica', 23, False)\n",
            "<class 'tuple'>\n"
          ]
        }
      ]
    },
    {
      "cell_type": "markdown",
      "source": [
        "#### Tuple Functions"
      ],
      "metadata": {
        "id": "xrK57tpLZv0u"
      }
    },
    {
      "cell_type": "code",
      "source": [
        "my_desk = ('laptop', 'mouse', 'paper', 'pen')\n",
        "print(len(my_desk))"
      ],
      "metadata": {
        "colab": {
          "base_uri": "https://localhost:8080/"
        },
        "id": "tNJmiP4wZvyI",
        "outputId": "3bae9be0-1cd9-466a-c87c-4dc1a3c5f1ba"
      },
      "execution_count": null,
      "outputs": [
        {
          "output_type": "stream",
          "name": "stdout",
          "text": [
            "4\n"
          ]
        }
      ]
    },
    {
      "cell_type": "code",
      "source": [
        "# del my_desk\n",
        "print(my_desk)\n",
        "# We deleted the variable my_desk resulting in an error when we try to print my_desk"
      ],
      "metadata": {
        "colab": {
          "base_uri": "https://localhost:8080/"
        },
        "id": "H5xELs_VlBTY",
        "outputId": "0ef25ac1-933b-4bb6-a5ab-a29d9235ce06"
      },
      "execution_count": null,
      "outputs": [
        {
          "output_type": "stream",
          "name": "stdout",
          "text": [
            "('laptop', 'mouse', 'paper', 'pen')\n"
          ]
        }
      ]
    },
    {
      "cell_type": "code",
      "source": [
        "digits = (3, 7, 5, 6, 3, 5, 7, 6, 3, 2, 8, 6, 3, 5) # we declare a new tuple called digits\n",
        "print(digits.count(3)) # we count the number of iteration of the number 3\n",
        "print(digits.count(5)) # we count the number of iteration of the number 5"
      ],
      "metadata": {
        "colab": {
          "base_uri": "https://localhost:8080/"
        },
        "id": "s9f_8MAmlBP_",
        "outputId": "190a1464-a258-4c52-9722-5971297acffb"
      },
      "execution_count": null,
      "outputs": [
        {
          "output_type": "stream",
          "name": "stdout",
          "text": [
            "4\n",
            "3\n"
          ]
        }
      ]
    },
    {
      "cell_type": "code",
      "source": [
        "print(digits.index(8)) # this line print the first occurence of the 8 number at index 10\n",
        "print(digits.index(7)) # this line print the first occurence of the 7 number at index 1"
      ],
      "metadata": {
        "colab": {
          "base_uri": "https://localhost:8080/"
        },
        "id": "LuF7gRyeZvvx",
        "outputId": "be795106-1f90-4184-fd84-478647bcf383"
      },
      "execution_count": null,
      "outputs": [
        {
          "output_type": "stream",
          "name": "stdout",
          "text": [
            "10\n",
            "1\n"
          ]
        }
      ]
    },
    {
      "cell_type": "markdown",
      "source": [
        "## Sets"
      ],
      "metadata": {
        "id": "c-tF97t5ZvtN"
      }
    },
    {
      "cell_type": "code",
      "source": [
        "days = {'Mon','Tue','Wed','Thu','Fri','Tue','Tue'} # new declaration of a set variable\n",
        "type(days)\n",
        "print(days)\n",
        "days = set(days)\n",
        "days\n",
        "type(days)\n",
        "# A set only prints the different occurence of an element leaving out\n",
        "# the repitive elements"
      ],
      "metadata": {
        "colab": {
          "base_uri": "https://localhost:8080/"
        },
        "id": "MfnbFKP6Zvqk",
        "outputId": "98fdd59d-1ee2-4cbe-b684-7f12f602172e"
      },
      "execution_count": null,
      "outputs": [
        {
          "output_type": "stream",
          "name": "stdout",
          "text": [
            "{'Mon', 'Fri', 'Tue', 'Thu', 'Wed'}\n"
          ]
        },
        {
          "output_type": "execute_result",
          "data": {
            "text/plain": [
              "set"
            ]
          },
          "metadata": {},
          "execution_count": 95
        }
      ]
    },
    {
      "cell_type": "markdown",
      "source": [
        "#### Updating Sets"
      ],
      "metadata": {
        "id": "A2sx3CkdbSrd"
      }
    },
    {
      "cell_type": "code",
      "source": [
        "days = {\"Mon\", \"Tue\", \"Wed\"} # Declaration of new set variable\n",
        "days.add(\"Thu\")\n",
        "print(days)\n",
        "# In this code we are using the add() to add an element\n",
        "# to the set days"
      ],
      "metadata": {
        "colab": {
          "base_uri": "https://localhost:8080/"
        },
        "id": "W_Lf2FGJbSpG",
        "outputId": "6489b6d2-3ebd-4056-c212-8ef06d3fe058"
      },
      "execution_count": 4,
      "outputs": [
        {
          "output_type": "stream",
          "name": "stdout",
          "text": [
            "{'Wed', 'Mon', 'Tue', 'Thu'}\n"
          ]
        }
      ]
    },
    {
      "cell_type": "code",
      "source": [
        "days.update(['Fri', 'Sat', 'Tue']) # we use the update() method to add distinct\n",
        "# elements to the set.\n",
        "print(days)"
      ],
      "metadata": {
        "colab": {
          "base_uri": "https://localhost:8080/"
        },
        "id": "WDa-rFIBcSNQ",
        "outputId": "289aef6e-f056-445b-caee-96835cb16659"
      },
      "execution_count": 5,
      "outputs": [
        {
          "output_type": "stream",
          "name": "stdout",
          "text": [
            "{'Mon', 'Thu', 'Wed', 'Tue', 'Fri', 'Sat'}\n"
          ]
        }
      ]
    },
    {
      "cell_type": "code",
      "source": [
        "days.remove('Mon') # we use remove() method to remove an element from a\n",
        "# set\n",
        "print(days)"
      ],
      "metadata": {
        "colab": {
          "base_uri": "https://localhost:8080/"
        },
        "id": "eJXbKR6TnEtS",
        "outputId": "27c75519-fde1-488c-d77c-3b228b78d052"
      },
      "execution_count": 6,
      "outputs": [
        {
          "output_type": "stream",
          "name": "stdout",
          "text": [
            "{'Thu', 'Wed', 'Tue', 'Fri', 'Sat'}\n"
          ]
        }
      ]
    },
    {
      "cell_type": "code",
      "source": [
        "days.pop() # we use pop() method to remove an element in the set\n",
        "print(days)\n",
        "# The element to be removed is not guaranteed since sets are unordered"
      ],
      "metadata": {
        "colab": {
          "base_uri": "https://localhost:8080/"
        },
        "id": "ilWBMoKFnEq_",
        "outputId": "6310e94d-e423-4db4-93b9-76bbdb7a9678"
      },
      "execution_count": 8,
      "outputs": [
        {
          "output_type": "stream",
          "name": "stdout",
          "text": [
            "{'Tue', 'Fri', 'Sat'}\n"
          ]
        }
      ]
    },
    {
      "cell_type": "code",
      "source": [
        "days.clear() # the clear() method empties the set\n",
        "print(days)"
      ],
      "metadata": {
        "colab": {
          "base_uri": "https://localhost:8080/"
        },
        "id": "5VemkpbWnEop",
        "outputId": "9b8995a3-803a-40e8-f05f-d363a7f8fe9e"
      },
      "execution_count": 9,
      "outputs": [
        {
          "output_type": "stream",
          "name": "stdout",
          "text": [
            "set()\n"
          ]
        }
      ]
    },
    {
      "cell_type": "markdown",
      "source": [
        "## Dictionaries"
      ],
      "metadata": {
        "id": "09r8CoYCgET0"
      }
    },
    {
      "cell_type": "code",
      "source": [
        "my_cat = {\n",
        "    'name':'Fluffy',\n",
        "    'age': 2,\n",
        "    'color': 'black'\n",
        "} # dictionaries come in pair of values\n",
        "# The format of a dictionary is 'key':'value'"
      ],
      "metadata": {
        "id": "XKprrQ7ocSKX"
      },
      "execution_count": 55,
      "outputs": []
    },
    {
      "cell_type": "code",
      "source": [
        "type(my_cat) # this line of code checks to see if\n",
        "# the varibale my cat is a dictionary"
      ],
      "metadata": {
        "colab": {
          "base_uri": "https://localhost:8080/"
        },
        "id": "QY1wiuPkcSH6",
        "outputId": "3bd8bbc8-7b89-4c97-a6c6-7b9dff55d7e0"
      },
      "execution_count": 40,
      "outputs": [
        {
          "output_type": "execute_result",
          "data": {
            "text/plain": [
              "dict"
            ]
          },
          "metadata": {},
          "execution_count": 40
        }
      ]
    },
    {
      "cell_type": "code",
      "source": [
        "dir(my_cat) # this line of code tells us what methods we can use on\n",
        "# our dictionary varibale my_cat"
      ],
      "metadata": {
        "id": "sbH6W-THgj9d"
      },
      "execution_count": null,
      "outputs": []
    },
    {
      "cell_type": "code",
      "source": [
        "print(my_cat['name']) # this line of code prints the value from\n",
        "# the key 'name'"
      ],
      "metadata": {
        "colab": {
          "base_uri": "https://localhost:8080/"
        },
        "id": "7I-Xe90qgj6l",
        "outputId": "f00057e4-67ca-424c-8d49-18f97dc0c80b"
      },
      "execution_count": 42,
      "outputs": [
        {
          "output_type": "stream",
          "name": "stdout",
          "text": [
            "Fluffy\n"
          ]
        }
      ]
    },
    {
      "cell_type": "code",
      "source": [
        "print(my_cat.get('age'))\n",
        "# This line of code prints the value 2 from the key age in the dictionary"
      ],
      "metadata": {
        "colab": {
          "base_uri": "https://localhost:8080/"
        },
        "id": "GQAJxU2Mgj3u",
        "outputId": "3f8b39c4-82cb-43f7-9e63-ce4870991763"
      },
      "execution_count": 43,
      "outputs": [
        {
          "output_type": "stream",
          "name": "stdout",
          "text": [
            "2\n"
          ]
        }
      ]
    },
    {
      "cell_type": "code",
      "source": [
        "print(my_cat.values())\n",
        "# This line of code prints the values defined in the dictionary my_cat"
      ],
      "metadata": {
        "colab": {
          "base_uri": "https://localhost:8080/"
        },
        "id": "2pgU1V8qgj03",
        "outputId": "9e1fb35d-64f1-4724-ba07-fee839b31003"
      },
      "execution_count": 44,
      "outputs": [
        {
          "output_type": "stream",
          "name": "stdout",
          "text": [
            "dict_values(['Fluffy', 2, 'black'])\n"
          ]
        }
      ]
    },
    {
      "cell_type": "code",
      "source": [
        "print(my_cat.keys())\n",
        "# This line of code prints the keys defined in the dictionary my_cat"
      ],
      "metadata": {
        "colab": {
          "base_uri": "https://localhost:8080/"
        },
        "id": "JDP6Zi7agjyB",
        "outputId": "3e1b446e-f61c-4c77-b77f-39db150763cf"
      },
      "execution_count": 45,
      "outputs": [
        {
          "output_type": "stream",
          "name": "stdout",
          "text": [
            "dict_keys(['name', 'age', 'color'])\n"
          ]
        }
      ]
    },
    {
      "cell_type": "code",
      "source": [
        "my_cat # this line of code prints the whole dictionary"
      ],
      "metadata": {
        "colab": {
          "base_uri": "https://localhost:8080/"
        },
        "id": "ZD9gDJEKBBsH",
        "outputId": "bbd210f0-4b30-411d-d647-9360f37559ce"
      },
      "execution_count": 46,
      "outputs": [
        {
          "output_type": "execute_result",
          "data": {
            "text/plain": [
              "{'name': 'Fluffy', 'age': 2, 'color': 'black'}"
            ]
          },
          "metadata": {},
          "execution_count": 46
        }
      ]
    },
    {
      "cell_type": "code",
      "source": [
        "print(my_cat.items()) # this line of code prints the individual\n",
        "# elements in the dictionary"
      ],
      "metadata": {
        "colab": {
          "base_uri": "https://localhost:8080/"
        },
        "id": "-aI46yV7gjva",
        "outputId": "9b048dcc-52ec-41e8-e56b-51d7150694a2"
      },
      "execution_count": 47,
      "outputs": [
        {
          "output_type": "stream",
          "name": "stdout",
          "text": [
            "dict_items([('name', 'Fluffy'), ('age', 2), ('color', 'black')])\n"
          ]
        }
      ]
    },
    {
      "cell_type": "code",
      "source": [
        "print('name' in my_cat)\n",
        "# This line of code print if there's an item called 'name' in my_cat"
      ],
      "metadata": {
        "colab": {
          "base_uri": "https://localhost:8080/"
        },
        "id": "4U_LsFSWh2kg",
        "outputId": "a3166ae4-348d-4548-8587-9791422c8a37"
      },
      "execution_count": 48,
      "outputs": [
        {
          "output_type": "stream",
          "name": "stdout",
          "text": [
            "True\n"
          ]
        }
      ]
    },
    {
      "cell_type": "code",
      "source": [
        "print('fluffyness' in my_cat)\n",
        "# This line of code prints if there's an item called\n",
        "# fluffyness in the dictionary my_cat"
      ],
      "metadata": {
        "colab": {
          "base_uri": "https://localhost:8080/"
        },
        "id": "toNHjpHyh83Y",
        "outputId": "2a3dbf43-d75d-419f-c26b-2bfe53e3d40b"
      },
      "execution_count": 49,
      "outputs": [
        {
          "output_type": "stream",
          "name": "stdout",
          "text": [
            "False\n"
          ]
        }
      ]
    },
    {
      "cell_type": "markdown",
      "source": [
        "#### Updating Dictionaries function"
      ],
      "metadata": {
        "id": "G4vM8u0fhjLA"
      }
    },
    {
      "cell_type": "code",
      "source": [
        "print(my_cat)\n",
        "my_cat['gender'] = 'male' # this line of code adds an item, key and value\n",
        "# in the dictionary my_cat\n",
        "print(my_cat)"
      ],
      "metadata": {
        "colab": {
          "base_uri": "https://localhost:8080/"
        },
        "id": "xQwCQP_-iCT-",
        "outputId": "90483579-f919-4d7d-aa00-aa99adf62cf5"
      },
      "execution_count": 56,
      "outputs": [
        {
          "output_type": "stream",
          "name": "stdout",
          "text": [
            "{'name': 'Fluffy', 'age': 2, 'color': 'black'}\n",
            "{'name': 'Fluffy', 'age': 2, 'color': 'black', 'gender': 'male'}\n"
          ]
        }
      ]
    },
    {
      "cell_type": "code",
      "source": [
        "my_cat.pop('color')\n",
        "print(my_cat)\n",
        "# We use pop() method to remove an item from the dictionary\n",
        "# removing the key and its value"
      ],
      "metadata": {
        "colab": {
          "base_uri": "https://localhost:8080/"
        },
        "id": "jL6fPhjeiCRG",
        "outputId": "a02d2e8d-def5-4395-8c73-c80fe7de19f9"
      },
      "execution_count": 57,
      "outputs": [
        {
          "output_type": "stream",
          "name": "stdout",
          "text": [
            "{'name': 'Fluffy', 'age': 2, 'gender': 'male'}\n"
          ]
        }
      ]
    },
    {
      "cell_type": "code",
      "source": [
        "my_cat.popitem() ## removes the last item in a dictionary\n",
        "print(my_cat)"
      ],
      "metadata": {
        "colab": {
          "base_uri": "https://localhost:8080/"
        },
        "id": "ymYpsuP3hjIZ",
        "outputId": "0aebbd4a-aec9-4d42-f748-3e9af3aaef73"
      },
      "execution_count": 58,
      "outputs": [
        {
          "output_type": "stream",
          "name": "stdout",
          "text": [
            "{'name': 'Fluffy', 'age': 2}\n"
          ]
        }
      ]
    },
    {
      "cell_type": "code",
      "source": [
        "my_cat['name'] = 'Fluffer'\n",
        "print(my_cat)\n",
        "# This line of code updates the value of the key 'name' in\n",
        "# the dictionary my_cat"
      ],
      "metadata": {
        "colab": {
          "base_uri": "https://localhost:8080/"
        },
        "id": "xw0KB8JWiIwK",
        "outputId": "09675600-97ca-4db7-9e69-beebbca6ac5f"
      },
      "execution_count": 59,
      "outputs": [
        {
          "output_type": "stream",
          "name": "stdout",
          "text": [
            "{'name': 'Fluffer', 'age': 2}\n"
          ]
        }
      ]
    },
    {
      "cell_type": "markdown",
      "source": [
        "#### Nesting Dictionaries"
      ],
      "metadata": {
        "id": "aLwRANjQisRA"
      }
    },
    {
      "cell_type": "code",
      "source": [
        "family = {\n",
        "    \"child1\": {\n",
        "        'name': 'Alex',\n",
        "        'year': 2004\n",
        "    },\n",
        "    'child2': {\n",
        "        'name': 'Monica',\n",
        "        'year': 2007\n",
        "    }\n",
        "}\n",
        "# You can define a dictionary in another dictionary which\n",
        "# create a nested dictionary"
      ],
      "metadata": {
        "id": "OkPiV4cWix7O"
      },
      "execution_count": 61,
      "outputs": []
    },
    {
      "cell_type": "code",
      "source": [
        "family"
      ],
      "metadata": {
        "colab": {
          "base_uri": "https://localhost:8080/"
        },
        "id": "CfPyKATuix3s",
        "outputId": "806302ec-d4c2-4f51-df24-814a9a5cfff0"
      },
      "execution_count": 62,
      "outputs": [
        {
          "output_type": "execute_result",
          "data": {
            "text/plain": [
              "{'child1': {'name': 'Alex', 'year': 2004},\n",
              " 'child2': {'name': 'Monica', 'year': 2007}}"
            ]
          },
          "metadata": {},
          "execution_count": 62
        }
      ]
    }
  ]
}