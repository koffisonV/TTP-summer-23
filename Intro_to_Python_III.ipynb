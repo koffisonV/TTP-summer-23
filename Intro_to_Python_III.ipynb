{
  "nbformat": 4,
  "nbformat_minor": 0,
  "metadata": {
    "colab": {
      "provenance": [],
      "authorship_tag": "ABX9TyNet5XtHpK2CGwxmcVue8OE",
      "include_colab_link": true
    },
    "kernelspec": {
      "name": "python3",
      "display_name": "Python 3"
    },
    "language_info": {
      "name": "python"
    }
  },
  "cells": [
    {
      "cell_type": "markdown",
      "metadata": {
        "id": "view-in-github",
        "colab_type": "text"
      },
      "source": [
        "<a href=\"https://colab.research.google.com/github/koffisonV/TTP-summer-23/blob/main/Intro_to_Python_III.ipynb\" target=\"_parent\"><img src=\"https://colab.research.google.com/assets/colab-badge.svg\" alt=\"Open In Colab\"/></a>"
      ]
    },
    {
      "cell_type": "markdown",
      "source": [
        "# Conditionals"
      ],
      "metadata": {
        "id": "Fiv9yD2anvvQ"
      }
    },
    {
      "cell_type": "markdown",
      "source": [
        "## The `if` Statement"
      ],
      "metadata": {
        "id": "7uDhuKO6oHpD"
      }
    },
    {
      "cell_type": "code",
      "source": [
        "night = False"
      ],
      "metadata": {
        "id": "CdxsSPEQoHmS"
      },
      "execution_count": 1,
      "outputs": []
    },
    {
      "cell_type": "code",
      "source": [
        "type(night)"
      ],
      "metadata": {
        "colab": {
          "base_uri": "https://localhost:8080/"
        },
        "id": "f5gEh9T0oHi6",
        "outputId": "5eac8a44-1532-4616-e62b-2c6b46f2ab2e"
      },
      "execution_count": 2,
      "outputs": [
        {
          "output_type": "execute_result",
          "data": {
            "text/plain": [
              "bool"
            ]
          },
          "metadata": {},
          "execution_count": 2
        }
      ]
    },
    {
      "cell_type": "code",
      "source": [
        "# if (something) -> then do something... if not -> then do something else."
      ],
      "metadata": {
        "id": "wcJnwp7p3epy"
      },
      "execution_count": 3,
      "outputs": []
    },
    {
      "cell_type": "code",
      "source": [
        "if night: # == True:\n",
        "    print(\"It's night. Sleeping\")\n",
        "else:\n",
        "    print(\"It's day. Being active.\")\n",
        "\n",
        "\n",
        "print(\"Out of the if statement\")"
      ],
      "metadata": {
        "colab": {
          "base_uri": "https://localhost:8080/"
        },
        "id": "wIyWEiEvoHfv",
        "outputId": "6fd39478-7b27-4f70-d720-6a96c62f4a5e"
      },
      "execution_count": 4,
      "outputs": [
        {
          "output_type": "stream",
          "name": "stdout",
          "text": [
            "It's day. Being active.\n",
            "Out of the if statement\n"
          ]
        }
      ]
    },
    {
      "cell_type": "code",
      "source": [
        "a, b, c = 100, 50, 20\n",
        "if a > b and b > c:\n",
        "    print(f\"{a} greater than {c}\")"
      ],
      "metadata": {
        "colab": {
          "base_uri": "https://localhost:8080/"
        },
        "id": "0Z8JpPV2oHcV",
        "outputId": "22e34413-e221-4b08-b2b2-28be689f1906"
      },
      "execution_count": 5,
      "outputs": [
        {
          "output_type": "stream",
          "name": "stdout",
          "text": [
            "100 greater than 20\n"
          ]
        }
      ]
    },
    {
      "cell_type": "code",
      "source": [
        "data = input(\"Do you have the keys? (yes/no)\")\n",
        "if data.lower() == \"yes\":\n",
        "    print(\"Starting the car\")\n",
        "else:\n",
        "    print(\"Car cannot start without the keys\")\n"
      ],
      "metadata": {
        "colab": {
          "base_uri": "https://localhost:8080/"
        },
        "id": "Vqyxy52XoHY9",
        "outputId": "d4bf333d-6a1c-463c-dc64-21834e9dcd25"
      },
      "execution_count": 6,
      "outputs": [
        {
          "output_type": "stream",
          "name": "stdout",
          "text": [
            "Do you have the keys? (yes/no)yes\n",
            "Starting the car\n"
          ]
        }
      ]
    },
    {
      "cell_type": "code",
      "source": [
        "data = input(\"Please enter the current hour (0-23): \")\n",
        "hour = int(data)\n",
        "if hour < 12:\n",
        "    print(f\"It's {hour} am\")\n",
        "else:\n",
        "    print(f\"It's {hour-12} pm\")\n"
      ],
      "metadata": {
        "colab": {
          "base_uri": "https://localhost:8080/"
        },
        "id": "Ze54usJDoHVT",
        "outputId": "0eb64857-8907-45e3-ec2b-caefaa202086"
      },
      "execution_count": 7,
      "outputs": [
        {
          "output_type": "stream",
          "name": "stdout",
          "text": [
            "Please enter the current hour (0-23): 6\n",
            "It's 6 am\n"
          ]
        }
      ]
    },
    {
      "cell_type": "markdown",
      "source": [
        "#### Nested `if` Statements"
      ],
      "metadata": {
        "id": "36KpFpWe437Q"
      }
    },
    {
      "cell_type": "code",
      "source": [
        "pet_store = ['cat', 'dog', 'rabbit']\n",
        "has_cat_food = True\n",
        "\n",
        "if 'cat' in pet_store:\n",
        "    print(\"Alright! they have a cat for me\")\n",
        "\n",
        "    if has_cat_food:\n",
        "        print('Buying cat and cat food')\n",
        "\n",
        "    else:\n",
        "        print('Buying the cat only')\n",
        "        # more code inside the else block\n",
        "    # more code\n",
        "\n",
        "else:\n",
        "    print('Ask pet store to get cat')\n"
      ],
      "metadata": {
        "colab": {
          "base_uri": "https://localhost:8080/"
        },
        "id": "Y4kBcuhToHRx",
        "outputId": "219dd18f-dde7-492d-dda9-0d7b35511a7a"
      },
      "execution_count": 8,
      "outputs": [
        {
          "output_type": "stream",
          "name": "stdout",
          "text": [
            "Alright! they have a cat for me\n",
            "Buying cat and cat food\n"
          ]
        }
      ]
    },
    {
      "cell_type": "markdown",
      "source": [
        "#### More on indentation!"
      ],
      "metadata": {
        "id": "u2ZILAE8oHOZ"
      }
    },
    {
      "cell_type": "code",
      "source": [
        "if True:\n",
        "    print(\"This is part of the if statement\")\n",
        "print(\"The if statement has finished\")\n",
        "    # print(\"Not allowed\")\n",
        "\n"
      ],
      "metadata": {
        "colab": {
          "base_uri": "https://localhost:8080/"
        },
        "id": "AKnahsXBoHK4",
        "outputId": "3535b6ef-d44b-44d3-b6e8-31e1d38f5f42"
      },
      "execution_count": 9,
      "outputs": [
        {
          "output_type": "stream",
          "name": "stdout",
          "text": [
            "This is part of the if statement\n",
            "The if statement has finished\n"
          ]
        }
      ]
    },
    {
      "cell_type": "code",
      "source": [
        "if 5 > 3:\n",
        "    print(\"This is part of expression 1\")\n",
        "\n",
        "    if 10 > 5:\n",
        "        print(\"This is part of expression2\")\n",
        "\n",
        "    print(\"This is also part of expression 1\")\n",
        "\n",
        "print(\"This is not part of any if statement\")\n",
        "    # print(\"This is not allowed\")\n"
      ],
      "metadata": {
        "colab": {
          "base_uri": "https://localhost:8080/"
        },
        "id": "tEp1_mNCoHHu",
        "outputId": "e24b521e-2aab-4282-adde-9143d07edb93"
      },
      "execution_count": 10,
      "outputs": [
        {
          "output_type": "stream",
          "name": "stdout",
          "text": [
            "This is part of expression 1\n",
            "This is part of expression2\n",
            "This is also part of expression 1\n",
            "This is not part of any if statement\n"
          ]
        }
      ]
    },
    {
      "cell_type": "markdown",
      "source": [
        "#### The `if_elif_else' Statement"
      ],
      "metadata": {
        "id": "Cd9t8aC-5xws"
      }
    },
    {
      "cell_type": "code",
      "source": [
        "age = int(input(\"Please enter your age: \"))\n",
        "\n",
        "if age < 18:\n",
        "    print(\"You are a minor\")\n",
        "elif age < 21:\n",
        "    print(\"You are an adult but cannot drink alcohol\")\n",
        "elif age < 35:\n",
        "    print(\"You are younger than 35\")\n",
        "else:\n",
        "    print(\"You are an adult\")\n",
        "\n",
        "print(\"If statement finished\")\n"
      ],
      "metadata": {
        "colab": {
          "base_uri": "https://localhost:8080/"
        },
        "id": "e7p6peme6A7X",
        "outputId": "5f797933-5b0d-4ec4-9390-d1341cfa2e87"
      },
      "execution_count": 11,
      "outputs": [
        {
          "output_type": "stream",
          "name": "stdout",
          "text": [
            "Please enter your age: 23\n",
            "You are younger than 35\n",
            "If statement finished\n"
          ]
        }
      ]
    },
    {
      "cell_type": "markdown",
      "source": [
        "#### Shorthand `if` statement"
      ],
      "metadata": {
        "id": "4LPer4-o6A42"
      }
    },
    {
      "cell_type": "code",
      "source": [
        "a, b = 50, 20"
      ],
      "metadata": {
        "id": "mrx1vABn6A10"
      },
      "execution_count": 12,
      "outputs": []
    },
    {
      "cell_type": "code",
      "source": [
        "if a > b: print(\"a > b\")"
      ],
      "metadata": {
        "colab": {
          "base_uri": "https://localhost:8080/"
        },
        "id": "7sYn7Bab6Ay8",
        "outputId": "419016ec-ba81-4999-bdee-779cb6504f73"
      },
      "execution_count": 13,
      "outputs": [
        {
          "output_type": "stream",
          "name": "stdout",
          "text": [
            "a > b\n"
          ]
        }
      ]
    },
    {
      "cell_type": "code",
      "source": [
        "print(\"a > b\") if a > b else print(\"b > a\")"
      ],
      "metadata": {
        "colab": {
          "base_uri": "https://localhost:8080/"
        },
        "id": "W7QJRFYT6Avz",
        "outputId": "2f3e0fbe-eb38-40c6-c1d5-ecf64a165239"
      },
      "execution_count": 14,
      "outputs": [
        {
          "output_type": "stream",
          "name": "stdout",
          "text": [
            "a > b\n"
          ]
        }
      ]
    },
    {
      "cell_type": "code",
      "source": [
        "max = a if a > b else b\n",
        "print(max)"
      ],
      "metadata": {
        "colab": {
          "base_uri": "https://localhost:8080/"
        },
        "id": "lB3m8tsD6Asw",
        "outputId": "69b34b9d-a3d7-4ceb-bb4a-10ef13b1856d"
      },
      "execution_count": 15,
      "outputs": [
        {
          "output_type": "stream",
          "name": "stdout",
          "text": [
            "50\n"
          ]
        }
      ]
    },
    {
      "cell_type": "markdown",
      "source": [
        "#### The `pass` keyword"
      ],
      "metadata": {
        "id": "1OQDP7076ApN"
      }
    },
    {
      "cell_type": "code",
      "source": [
        "has_cat = False\n",
        "\n",
        "if has_cat: # This means --> if has_cat == True\n",
        "    pass\n",
        "else:\n",
        "    print(\"You should get a cat\")\n"
      ],
      "metadata": {
        "colab": {
          "base_uri": "https://localhost:8080/"
        },
        "id": "KhYmj2uh6AmO",
        "outputId": "13e8cf72-47f8-474f-be77-ce6eafbb7add"
      },
      "execution_count": 16,
      "outputs": [
        {
          "output_type": "stream",
          "name": "stdout",
          "text": [
            "You should get a cat\n"
          ]
        }
      ]
    },
    {
      "cell_type": "code",
      "source": [
        "has_dog = False\n",
        "\n",
        "if has_dog:\n",
        "    print(\"Awesome!\")\n",
        "else:\n",
        "    pass\n",
        "    print(\"You should get one\")"
      ],
      "metadata": {
        "colab": {
          "base_uri": "https://localhost:8080/"
        },
        "id": "S2tu1_KF7RBr",
        "outputId": "93b3b1ae-4bcb-4ee8-ccba-fc9fb2cd10a2"
      },
      "execution_count": 17,
      "outputs": [
        {
          "output_type": "stream",
          "name": "stdout",
          "text": [
            "You should get one\n"
          ]
        }
      ]
    },
    {
      "cell_type": "markdown",
      "source": [
        "#### Practice"
      ],
      "metadata": {
        "id": "1SDg1aaB7W8E"
      }
    },
    {
      "cell_type": "code",
      "source": [
        "import random"
      ],
      "metadata": {
        "id": "0AUzVfB49GUF"
      },
      "execution_count": 18,
      "outputs": []
    },
    {
      "cell_type": "code",
      "source": [
        "nb = random.randint(0, 100)\n",
        "print(f\"Number {nb} is even\") if nb % 2 == 0 else print(f\"Number {nb} is odd\")"
      ],
      "metadata": {
        "colab": {
          "base_uri": "https://localhost:8080/"
        },
        "id": "ynx4H7mg9GRG",
        "outputId": "848982bd-f83f-4d61-acc8-c80ae5a0f7e7"
      },
      "execution_count": 19,
      "outputs": [
        {
          "output_type": "stream",
          "name": "stdout",
          "text": [
            "Number 17 is odd\n"
          ]
        }
      ]
    },
    {
      "cell_type": "code",
      "source": [
        "numb = int(input('Please enter a number from 0-100: '))\n",
        "\n",
        "print(f\"Number {numb} is even\") if numb % 2 == 0 else print(f\"Number {numb} is odd\")"
      ],
      "metadata": {
        "colab": {
          "base_uri": "https://localhost:8080/"
        },
        "id": "oUzGQUth9GON",
        "outputId": "842d112b-782c-4d6a-cb4d-55b09dc63af5"
      },
      "execution_count": 20,
      "outputs": [
        {
          "output_type": "stream",
          "name": "stdout",
          "text": [
            "Please enter a number from 0-100: 5\n",
            "Number 5 is odd\n"
          ]
        }
      ]
    },
    {
      "cell_type": "markdown",
      "source": [
        "# Loops"
      ],
      "metadata": {
        "id": "avkHk-bk9GLN"
      }
    },
    {
      "cell_type": "markdown",
      "source": [
        "## The `for` Loop"
      ],
      "metadata": {
        "id": "NA1vJTdE9GIR"
      }
    },
    {
      "cell_type": "code",
      "source": [
        "animals = ['cat', 'dog', 'horse']\n",
        "for animal in animals:\n",
        "    print(f\"There is a {animal}\")\n"
      ],
      "metadata": {
        "colab": {
          "base_uri": "https://localhost:8080/"
        },
        "id": "y0gOneuT9GFJ",
        "outputId": "5d13f689-fce5-49e5-a1b6-18e06d38716e"
      },
      "execution_count": 21,
      "outputs": [
        {
          "output_type": "stream",
          "name": "stdout",
          "text": [
            "There is a cat\n",
            "There is a dog\n",
            "There is a horse\n"
          ]
        }
      ]
    },
    {
      "cell_type": "code",
      "source": [
        "for letter in 'pineapple':\n",
        "    print(letter.upper())"
      ],
      "metadata": {
        "colab": {
          "base_uri": "https://localhost:8080/"
        },
        "id": "_9bzWmImAvuP",
        "outputId": "d42a52b6-19c1-433e-ab73-d49da49eb067"
      },
      "execution_count": 22,
      "outputs": [
        {
          "output_type": "stream",
          "name": "stdout",
          "text": [
            "P\n",
            "I\n",
            "N\n",
            "E\n",
            "A\n",
            "P\n",
            "P\n",
            "L\n",
            "E\n"
          ]
        }
      ]
    },
    {
      "cell_type": "code",
      "source": [
        "for number in range(0, 20, 2):\n",
        "    print(f\"{number} is an even number\")\n"
      ],
      "metadata": {
        "colab": {
          "base_uri": "https://localhost:8080/"
        },
        "id": "RtZD_cSgAvq9",
        "outputId": "1bb4f071-4292-4c09-8683-b04952ede091"
      },
      "execution_count": 23,
      "outputs": [
        {
          "output_type": "stream",
          "name": "stdout",
          "text": [
            "0 is an even number\n",
            "2 is an even number\n",
            "4 is an even number\n",
            "6 is an even number\n",
            "8 is an even number\n",
            "10 is an even number\n",
            "12 is an even number\n",
            "14 is an even number\n",
            "16 is an even number\n",
            "18 is an even number\n"
          ]
        }
      ]
    },
    {
      "cell_type": "markdown",
      "source": [
        "#### `break` and `continue`"
      ],
      "metadata": {
        "id": "MOqpf6vYAvn0"
      }
    },
    {
      "cell_type": "code",
      "source": [
        "for number in range(0, 20, 2):\n",
        "    print(f\"{number} is an even number\")\n",
        "    if number == 10:\n",
        "        print(\"On ho! Not 10\")\n",
        "        break\n",
        "print(\"Next steps in out code\")\n"
      ],
      "metadata": {
        "colab": {
          "base_uri": "https://localhost:8080/"
        },
        "id": "vQhUW4kuAvlL",
        "outputId": "09f0d7d0-f0ee-4d3b-cfec-6881a1bfb352"
      },
      "execution_count": 24,
      "outputs": [
        {
          "output_type": "stream",
          "name": "stdout",
          "text": [
            "0 is an even number\n",
            "2 is an even number\n",
            "4 is an even number\n",
            "6 is an even number\n",
            "8 is an even number\n",
            "10 is an even number\n",
            "On ho! Not 10\n",
            "Next steps in out code\n"
          ]
        }
      ]
    },
    {
      "cell_type": "code",
      "source": [
        "for number in range(0, 20, 2):\n",
        "    if number == 10:\n",
        "        print(\"We are not executing 10\")\n",
        "        continue\n",
        "    print(f\"{number} is an even number\")\n"
      ],
      "metadata": {
        "colab": {
          "base_uri": "https://localhost:8080/"
        },
        "id": "QGpnU--oAvh5",
        "outputId": "2579504d-5287-4643-bdd5-7955cb5481ac"
      },
      "execution_count": 25,
      "outputs": [
        {
          "output_type": "stream",
          "name": "stdout",
          "text": [
            "0 is an even number\n",
            "2 is an even number\n",
            "4 is an even number\n",
            "6 is an even number\n",
            "8 is an even number\n",
            "We are not executing 10\n",
            "12 is an even number\n",
            "14 is an even number\n",
            "16 is an even number\n",
            "18 is an even number\n"
          ]
        }
      ]
    },
    {
      "cell_type": "markdown",
      "source": [
        "#### Practice"
      ],
      "metadata": {
        "id": "3DrPQWN3AvfH"
      }
    },
    {
      "cell_type": "code",
      "source": [
        "for i in range(0, 10):\n",
        "    print(\"Hello for loop\")\n"
      ],
      "metadata": {
        "colab": {
          "base_uri": "https://localhost:8080/"
        },
        "id": "15o6GY0LAvb_",
        "outputId": "419e3e56-1175-4787-d0d6-1cf27e2cf6d7"
      },
      "execution_count": 26,
      "outputs": [
        {
          "output_type": "stream",
          "name": "stdout",
          "text": [
            "Hello for loop\n",
            "Hello for loop\n",
            "Hello for loop\n",
            "Hello for loop\n",
            "Hello for loop\n",
            "Hello for loop\n",
            "Hello for loop\n",
            "Hello for loop\n",
            "Hello for loop\n",
            "Hello for loop\n"
          ]
        }
      ]
    },
    {
      "cell_type": "code",
      "source": [
        "sum = 0\n",
        "for number in range(0, 101):\n",
        "    if number % 10 == 0:\n",
        "        continue\n",
        "    sum += number\n",
        "print(f\"The sum is {sum}\")\n"
      ],
      "metadata": {
        "colab": {
          "base_uri": "https://localhost:8080/"
        },
        "id": "M34qYiKiAvY2",
        "outputId": "93f1d6db-7b03-448b-8334-a91211a22b55"
      },
      "execution_count": 27,
      "outputs": [
        {
          "output_type": "stream",
          "name": "stdout",
          "text": [
            "The sum is 4500\n"
          ]
        }
      ]
    },
    {
      "cell_type": "code",
      "source": [
        "customers = {\n",
        "    'Alice': 4,\n",
        "    'Judy': 8,\n",
        "    'Anna': 6\n",
        "}\n",
        "for customer in customers:\n",
        "    print(\"{} has made {} purchases\".format(customer, customers[customer]))\n"
      ],
      "metadata": {
        "colab": {
          "base_uri": "https://localhost:8080/"
        },
        "id": "kL_ohNOm9GB6",
        "outputId": "4cfc7271-92e6-4a5d-e91a-6f66bb2ce353"
      },
      "execution_count": 28,
      "outputs": [
        {
          "output_type": "stream",
          "name": "stdout",
          "text": [
            "Alice has made 4 purchases\n",
            "Judy has made 8 purchases\n",
            "Anna has made 6 purchases\n"
          ]
        }
      ]
    },
    {
      "cell_type": "markdown",
      "source": [
        "#### Using `else` with `for` Loops"
      ],
      "metadata": {
        "id": "3FxWOHuIBYXD"
      }
    },
    {
      "cell_type": "code",
      "source": [
        "numbers1 = [1, 5, 9, 5, 7, 3]\n",
        "numbers2 = [2, 8, 6, 2, 4, 10]\n",
        "\n",
        "for number in numbers2:\n",
        "    if number % 2 == 0:\n",
        "        print(\"List contains at least 1 even number\")\n",
        "        break\n",
        "else:\n",
        "    print(\"The list does not contain any even numbers\")\n"
      ],
      "metadata": {
        "colab": {
          "base_uri": "https://localhost:8080/"
        },
        "id": "EwlC2HMEBYUb",
        "outputId": "1bc4a0a3-8e89-4fd9-a737-b5568ca0b1ee"
      },
      "execution_count": 29,
      "outputs": [
        {
          "output_type": "stream",
          "name": "stdout",
          "text": [
            "List contains at least 1 even number\n"
          ]
        }
      ]
    },
    {
      "cell_type": "markdown",
      "source": [
        "#### Nested Loops"
      ],
      "metadata": {
        "id": "Yiash3amBYSD"
      }
    },
    {
      "cell_type": "code",
      "source": [
        "for x in range(6):\n",
        "    for y in range(6):\n",
        "        print(f\"{x} * {y} = {x * y}\")\n"
      ],
      "metadata": {
        "colab": {
          "base_uri": "https://localhost:8080/"
        },
        "id": "9JAswvH3BYO6",
        "outputId": "70619b54-6dec-49ca-c590-da0eb96705a4"
      },
      "execution_count": 30,
      "outputs": [
        {
          "output_type": "stream",
          "name": "stdout",
          "text": [
            "0 * 0 = 0\n",
            "0 * 1 = 0\n",
            "0 * 2 = 0\n",
            "0 * 3 = 0\n",
            "0 * 4 = 0\n",
            "0 * 5 = 0\n",
            "1 * 0 = 0\n",
            "1 * 1 = 1\n",
            "1 * 2 = 2\n",
            "1 * 3 = 3\n",
            "1 * 4 = 4\n",
            "1 * 5 = 5\n",
            "2 * 0 = 0\n",
            "2 * 1 = 2\n",
            "2 * 2 = 4\n",
            "2 * 3 = 6\n",
            "2 * 4 = 8\n",
            "2 * 5 = 10\n",
            "3 * 0 = 0\n",
            "3 * 1 = 3\n",
            "3 * 2 = 6\n",
            "3 * 3 = 9\n",
            "3 * 4 = 12\n",
            "3 * 5 = 15\n",
            "4 * 0 = 0\n",
            "4 * 1 = 4\n",
            "4 * 2 = 8\n",
            "4 * 3 = 12\n",
            "4 * 4 = 16\n",
            "4 * 5 = 20\n",
            "5 * 0 = 0\n",
            "5 * 1 = 5\n",
            "5 * 2 = 10\n",
            "5 * 3 = 15\n",
            "5 * 4 = 20\n",
            "5 * 5 = 25\n"
          ]
        }
      ]
    },
    {
      "cell_type": "code",
      "source": [
        "size = 5\n",
        "for x in range(size):\n",
        "    for y in range(size):\n",
        "        print(f\"{x},{y}\\t\\t\", end='')\n",
        "    print()\n"
      ],
      "metadata": {
        "colab": {
          "base_uri": "https://localhost:8080/"
        },
        "id": "hUUkJ80U9F-n",
        "outputId": "b8163077-e131-4b75-abce-74f065ac04de"
      },
      "execution_count": 31,
      "outputs": [
        {
          "output_type": "stream",
          "name": "stdout",
          "text": [
            "0,0\t\t0,1\t\t0,2\t\t0,3\t\t0,4\t\t\n",
            "1,0\t\t1,1\t\t1,2\t\t1,3\t\t1,4\t\t\n",
            "2,0\t\t2,1\t\t2,2\t\t2,3\t\t2,4\t\t\n",
            "3,0\t\t3,1\t\t3,2\t\t3,3\t\t3,4\t\t\n",
            "4,0\t\t4,1\t\t4,2\t\t4,3\t\t4,4\t\t\n"
          ]
        }
      ]
    },
    {
      "cell_type": "code",
      "source": [
        "for x in range(size):\n",
        "    for y in range(size):\n",
        "        if (x + y) % 2:\n",
        "            print(\"\\U0001F600\\t\", end='')\n",
        "        else:\n",
        "            print(\"\\U0001F60D\\t\", end='')\n",
        "    print()\n"
      ],
      "metadata": {
        "colab": {
          "base_uri": "https://localhost:8080/"
        },
        "id": "R6wIyYflBu0p",
        "outputId": "4d7eea45-ce47-4cce-ac82-5c8fc326c8a9"
      },
      "execution_count": 32,
      "outputs": [
        {
          "output_type": "stream",
          "name": "stdout",
          "text": [
            "😍\t😀\t😍\t😀\t😍\t\n",
            "😀\t😍\t😀\t😍\t😀\t\n",
            "😍\t😀\t😍\t😀\t😍\t\n",
            "😀\t😍\t😀\t😍\t😀\t\n",
            "😍\t😀\t😍\t😀\t😍\t\n"
          ]
        }
      ]
    },
    {
      "cell_type": "markdown",
      "source": [
        "## The `while` Loop"
      ],
      "metadata": {
        "id": "EwH8rRrJ9F7O"
      }
    },
    {
      "cell_type": "code",
      "source": [
        "i = 0\n",
        "while i < 6:\n",
        "    print(i)\n",
        "    i += 1\n"
      ],
      "metadata": {
        "colab": {
          "base_uri": "https://localhost:8080/"
        },
        "id": "AFglem6eAu3h",
        "outputId": "b02db9b3-8203-4e60-f120-dfbafd7dbb5b"
      },
      "execution_count": 33,
      "outputs": [
        {
          "output_type": "stream",
          "name": "stdout",
          "text": [
            "0\n",
            "1\n",
            "2\n",
            "3\n",
            "4\n",
            "5\n"
          ]
        }
      ]
    },
    {
      "cell_type": "code",
      "source": [
        "puzzle_pieces = 20\n",
        "pieces_placed = 0\n",
        "\n",
        "while pieces_placed < puzzle_pieces:\n",
        "    pieces_placed += 1\n",
        "    print(f\"Piece {pieces_placed} placed\")\n"
      ],
      "metadata": {
        "colab": {
          "base_uri": "https://localhost:8080/"
        },
        "id": "0_8mUa13Au0R",
        "outputId": "cdca2737-f619-47fa-9bc0-8ca01fce0017"
      },
      "execution_count": 34,
      "outputs": [
        {
          "output_type": "stream",
          "name": "stdout",
          "text": [
            "Piece 1 placed\n",
            "Piece 2 placed\n",
            "Piece 3 placed\n",
            "Piece 4 placed\n",
            "Piece 5 placed\n",
            "Piece 6 placed\n",
            "Piece 7 placed\n",
            "Piece 8 placed\n",
            "Piece 9 placed\n",
            "Piece 10 placed\n",
            "Piece 11 placed\n",
            "Piece 12 placed\n",
            "Piece 13 placed\n",
            "Piece 14 placed\n",
            "Piece 15 placed\n",
            "Piece 16 placed\n",
            "Piece 17 placed\n",
            "Piece 18 placed\n",
            "Piece 19 placed\n",
            "Piece 20 placed\n"
          ]
        }
      ]
    },
    {
      "cell_type": "markdown",
      "source": [
        "#### Using `else` with `while` Loops"
      ],
      "metadata": {
        "id": "sTNFP1y8AuxX"
      }
    },
    {
      "cell_type": "code",
      "source": [
        "i = 1\n",
        "while i < 10:\n",
        "    i += 3\n",
        "    if i % 2 == 0:\n",
        "        print(\"Sequence contains an even number\")\n",
        "        break\n",
        "else:\n",
        "    print(\"Sequence does not contain an even number\")\n"
      ],
      "metadata": {
        "colab": {
          "base_uri": "https://localhost:8080/"
        },
        "id": "mCD6TJ7xAuut",
        "outputId": "fb7a110f-e1f1-4923-db6f-c3f8f265a467"
      },
      "execution_count": 35,
      "outputs": [
        {
          "output_type": "stream",
          "name": "stdout",
          "text": [
            "Sequence contains an even number\n"
          ]
        }
      ]
    },
    {
      "cell_type": "markdown",
      "source": [
        "#### A bit of Practice"
      ],
      "metadata": {
        "id": "vsluDcrXAurm"
      }
    },
    {
      "cell_type": "code",
      "source": [
        "i = 0\n",
        "while i < 10:\n",
        "    i += 1\n",
        "    print(f\"{i}. Hello while loop\")\n"
      ],
      "metadata": {
        "colab": {
          "base_uri": "https://localhost:8080/"
        },
        "id": "YGP32zscCDyz",
        "outputId": "6be93c8b-6631-43ea-d516-3289f85b8c66"
      },
      "execution_count": 36,
      "outputs": [
        {
          "output_type": "stream",
          "name": "stdout",
          "text": [
            "1. Hello while loop\n",
            "2. Hello while loop\n",
            "3. Hello while loop\n",
            "4. Hello while loop\n",
            "5. Hello while loop\n",
            "6. Hello while loop\n",
            "7. Hello while loop\n",
            "8. Hello while loop\n",
            "9. Hello while loop\n",
            "10. Hello while loop\n"
          ]
        }
      ]
    },
    {
      "cell_type": "code",
      "source": [
        "cats = ['Tigger', 'Smokey', 'Sassy', 'Patch', 'Sammy']\n",
        "i = 0\n",
        "while i < len(cats):\n",
        "    print(f\"Hello {cats[i]}\")\n",
        "    i += 1\n"
      ],
      "metadata": {
        "colab": {
          "base_uri": "https://localhost:8080/"
        },
        "id": "-55iIjLUCDwB",
        "outputId": "5177457a-524e-4a08-c766-339a07a294f8"
      },
      "execution_count": 37,
      "outputs": [
        {
          "output_type": "stream",
          "name": "stdout",
          "text": [
            "Hello Tigger\n",
            "Hello Smokey\n",
            "Hello Sassy\n",
            "Hello Patch\n",
            "Hello Sammy\n"
          ]
        }
      ]
    },
    {
      "cell_type": "code",
      "source": [
        "number = int(input(\"Please enter a number:\\n\"))\n",
        "factorial = 1\n",
        "i = 1\n",
        "while i <= number:\n",
        "    factorial *= i\n",
        "    i += 1\n",
        "print(f\"{number}! = {factorial}\")\n"
      ],
      "metadata": {
        "colab": {
          "base_uri": "https://localhost:8080/"
        },
        "id": "8HcgYdoyCDtP",
        "outputId": "2166990c-6ee6-402f-de4e-007da6062657"
      },
      "execution_count": 38,
      "outputs": [
        {
          "output_type": "stream",
          "name": "stdout",
          "text": [
            "Please enter a number:\n",
            "45\n",
            "45! = 119622220865480194561963161495657715064383733760000000000\n"
          ]
        }
      ]
    },
    {
      "cell_type": "code",
      "source": [
        "i = 0\n",
        "while True:\n",
        "    print(i)\n",
        "    i += 1\n",
        "    if i >= 10:\n",
        "        break\n"
      ],
      "metadata": {
        "colab": {
          "base_uri": "https://localhost:8080/"
        },
        "id": "UBfjtHIgCDqX",
        "outputId": "13f2cd52-4ab9-4c0c-f1e8-8ce6b21cc0a4"
      },
      "execution_count": 39,
      "outputs": [
        {
          "output_type": "stream",
          "name": "stdout",
          "text": [
            "0\n",
            "1\n",
            "2\n",
            "3\n",
            "4\n",
            "5\n",
            "6\n",
            "7\n",
            "8\n",
            "9\n"
          ]
        }
      ]
    },
    {
      "cell_type": "code",
      "source": [],
      "metadata": {
        "id": "LdOP8F9WCDnV"
      },
      "execution_count": 39,
      "outputs": []
    },
    {
      "cell_type": "code",
      "source": [],
      "metadata": {
        "id": "flEWe1gaCDk-"
      },
      "execution_count": 39,
      "outputs": []
    }
  ]
}