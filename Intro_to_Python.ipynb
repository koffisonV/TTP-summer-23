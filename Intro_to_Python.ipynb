{
  "nbformat": 4,
  "nbformat_minor": 0,
  "metadata": {
    "colab": {
      "provenance": [],
      "collapsed_sections": [
        "Hf3v736YJdut",
        "P8rnVQdAIi9p",
        "88A8eZBRLTTJ",
        "l--uYK6kRGkF"
      ],
      "authorship_tag": "ABX9TyNKOU10wcLuKFnpC9xh1vEn",
      "include_colab_link": true
    },
    "kernelspec": {
      "name": "python3",
      "display_name": "Python 3"
    },
    "language_info": {
      "name": "python"
    }
  },
  "cells": [
    {
      "cell_type": "markdown",
      "metadata": {
        "id": "view-in-github",
        "colab_type": "text"
      },
      "source": [
        "<a href=\"https://colab.research.google.com/github/koffisonV/TTP-summer-23/blob/main/Intro_to_Python.ipynb\" target=\"_parent\"><img src=\"https://colab.research.google.com/assets/colab-badge.svg\" alt=\"Open In Colab\"/></a>"
      ]
    },
    {
      "cell_type": "markdown",
      "source": [
        "#Python Basics"
      ],
      "metadata": {
        "id": "wZAJEvOIHatn"
      }
    },
    {
      "cell_type": "markdown",
      "source": [
        "## Strings and print() function"
      ],
      "metadata": {
        "id": "Hf3v736YJdut"
      }
    },
    {
      "cell_type": "code",
      "source": [
        "print ('Hi there')\n",
        "# In this line I am using the print() method to print \"hi there\""
      ],
      "metadata": {
        "colab": {
          "base_uri": "https://localhost:8080/"
        },
        "id": "GjZ2bK4yIjW1",
        "outputId": "7143420e-cf82-4b9c-d216-0b7d19c066c4"
      },
      "execution_count": null,
      "outputs": [
        {
          "output_type": "stream",
          "name": "stdout",
          "text": [
            "Hi there\n"
          ]
        }
      ]
    },
    {
      "cell_type": "code",
      "source": [
        "print(\"There are two types of slashes: \\\\ and /\")\n",
        "# In this line, I am using the \\ as an escape character reason why there is only one \\ showing"
      ],
      "metadata": {
        "colab": {
          "base_uri": "https://localhost:8080/"
        },
        "id": "hcwoJI6vIjTh",
        "outputId": "d5075ee2-9f6a-4bfb-c774-d4c21fc18071"
      },
      "execution_count": null,
      "outputs": [
        {
          "output_type": "stream",
          "name": "stdout",
          "text": [
            "There are two types of slashes: \\ and /\n"
          ]
        }
      ]
    },
    {
      "cell_type": "code",
      "source": [
        "print(\"\\n\\tThis is a tabbed line\\nThis is a regular line\")\n",
        "# In this code, we add an n to \\ representing a new line. It is followed by \\t where \"t\" stands for tab. Same applies for the second\n",
        "# sentence where we use \\n which signals to go to a new line and \"n\" standing for \"new\""
      ],
      "metadata": {
        "colab": {
          "base_uri": "https://localhost:8080/"
        },
        "id": "rCuM8lCiIjDE",
        "outputId": "9b532cae-dead-43fd-ba65-a55af4c22444"
      },
      "execution_count": null,
      "outputs": [
        {
          "output_type": "stream",
          "name": "stdout",
          "text": [
            "\n",
            "\tThis is a tabbed line\n",
            "This is a regular line\n"
          ]
        }
      ]
    },
    {
      "cell_type": "code",
      "source": [
        "print(\"first name\" + ' last name')\n",
        "# In this line, we use the + symbol to combine \"first name\" and \"last name\" into one sentence"
      ],
      "metadata": {
        "colab": {
          "base_uri": "https://localhost:8080/"
        },
        "id": "VZGGbar1IjAc",
        "outputId": "c62400de-f8aa-4bb9-ddfa-09d571959692"
      },
      "execution_count": null,
      "outputs": [
        {
          "output_type": "stream",
          "name": "stdout",
          "text": [
            "first name last name\n"
          ]
        }
      ]
    },
    {
      "cell_type": "markdown",
      "source": [
        "## Variables"
      ],
      "metadata": {
        "id": "P8rnVQdAIi9p"
      }
    },
    {
      "cell_type": "code",
      "source": [
        "dogs = 3\n",
        "cats = 'Many fluffy cats'\n",
        "# In this part, we are defining a value by giving it a meaning or name. The meaning can be either words, sentences, or numbers."
      ],
      "metadata": {
        "id": "liRWLlu1Ii0d"
      },
      "execution_count": 5,
      "outputs": []
    },
    {
      "cell_type": "code",
      "source": [
        "cats\n",
        "# In this line, we are calling the value cats which we defined ^above^, and prints it to the screen"
      ],
      "metadata": {
        "colab": {
          "base_uri": "https://localhost:8080/",
          "height": 35
        },
        "id": "1kp8ToFAIix3",
        "outputId": "63095a23-c8e0-4d25-9089-07369e6fcd6f"
      },
      "execution_count": 6,
      "outputs": [
        {
          "output_type": "execute_result",
          "data": {
            "text/plain": [
              "'Many fluffy cats'"
            ],
            "application/vnd.google.colaboratory.intrinsic+json": {
              "type": "string"
            }
          },
          "metadata": {},
          "execution_count": 6
        }
      ]
    },
    {
      "cell_type": "code",
      "source": [
        "type(cats)\n",
        "# In this line, we are using the type() function so that the computer tells us what type of information this is\n",
        "# In this case, cats which we defined earlier, is a string because it is made of words."
      ],
      "metadata": {
        "colab": {
          "base_uri": "https://localhost:8080/"
        },
        "id": "nvUrVUmJIivA",
        "outputId": "39ecdd17-e820-4c2e-aec8-a35a4535e01d"
      },
      "execution_count": null,
      "outputs": [
        {
          "output_type": "execute_result",
          "data": {
            "text/plain": [
              "str"
            ]
          },
          "metadata": {},
          "execution_count": 9
        }
      ]
    },
    {
      "cell_type": "code",
      "source": [
        "type(dogs)\n",
        "# In this line we used the type() function to tell us what this variable is made of\n",
        "# The result is printed to the screen indicating that the varible dogs is made of numbers."
      ],
      "metadata": {
        "colab": {
          "base_uri": "https://localhost:8080/"
        },
        "id": "foG6BhfCIiFV",
        "outputId": "9e28fac9-9d5f-4441-8dcb-d5bda4c2dc9c"
      },
      "execution_count": null,
      "outputs": [
        {
          "output_type": "execute_result",
          "data": {
            "text/plain": [
              "int"
            ]
          },
          "metadata": {},
          "execution_count": 12
        }
      ]
    },
    {
      "cell_type": "code",
      "source": [
        "hi = 'Hello'\n",
        "name = ' John'\n",
        "print(hi + name)\n",
        "# In this code, we defined 2 varibles and gave them the name hi & name. Since both varibales are made of words (string), we use the + \n",
        "# symbol to combine both varibales into 1 long sentence which gives the sentence \"Hello John\""
      ],
      "metadata": {
        "colab": {
          "base_uri": "https://localhost:8080/"
        },
        "id": "dG-59yvtIiC_",
        "outputId": "9530e12e-d11f-4953-b71a-297ba7b13e2c"
      },
      "execution_count": 8,
      "outputs": [
        {
          "output_type": "stream",
          "name": "stdout",
          "text": [
            "Hello John\n"
          ]
        }
      ]
    },
    {
      "cell_type": "code",
      "source": [
        "more_dogs = 5\n",
        "# In this line, we created another varibales named more_dogs and gave it the number 5.\n",
        "\n",
        "print(dogs + more_dogs)\n",
        "# In this line, we are adding two values, dogs which we defined earlier and gave it the number 3, and more_dogs which eqauls to 5.\n",
        "# By adding dogs and more_dogs, or 5 + 3, we get 8 which is printed on the screen."
      ],
      "metadata": {
        "colab": {
          "base_uri": "https://localhost:8080/"
        },
        "id": "-x7XLKn6IiAa",
        "outputId": "1bc4d055-f5d1-42c5-e290-bc042868aabe"
      },
      "execution_count": null,
      "outputs": [
        {
          "output_type": "stream",
          "name": "stdout",
          "text": [
            "8\n"
          ]
        }
      ]
    },
    {
      "cell_type": "code",
      "source": [
        "price = 19.99\n",
        "amount = 3\n",
        "# In this line, we defined two variables price holding the price of an object and the amount of an object."
      ],
      "metadata": {
        "id": "JvUukZMfLTgK"
      },
      "execution_count": null,
      "outputs": []
    },
    {
      "cell_type": "code",
      "source": [
        "print(price * amount)\n",
        "# We use the print function with the * sign to signal that we want to multiply both values which gives us 59.97 just like we would do with a calculator."
      ],
      "metadata": {
        "colab": {
          "base_uri": "https://localhost:8080/"
        },
        "id": "travIoTyLTdU",
        "outputId": "9cf05920-cbca-4651-e702-5d63522d77c8"
      },
      "execution_count": null,
      "outputs": [
        {
          "output_type": "stream",
          "name": "stdout",
          "text": [
            "59.97\n"
          ]
        }
      ]
    },
    {
      "cell_type": "code",
      "source": [
        "# Variable re-assignment\n",
        "dogs = \"New value\"\n",
        "print(dogs)\n",
        "# In this lines, we assigned a value of number 5 to the variable dogs earlier, but now, we assign\n",
        "# a new value to the variable dogs which is now a string or a short sentence that says \"New value\""
      ],
      "metadata": {
        "colab": {
          "base_uri": "https://localhost:8080/"
        },
        "id": "2pSeY7G7LTa9",
        "outputId": "8dd83f91-50da-4f74-d060-a73be58106e7"
      },
      "execution_count": null,
      "outputs": [
        {
          "output_type": "stream",
          "name": "stdout",
          "text": [
            "New value\n"
          ]
        }
      ]
    },
    {
      "cell_type": "code",
      "source": [
        "cats, dogs, rabbits = 2, 5, 'cute'\n",
        "\n",
        "print(dogs)\n",
        "print(rabbits)\n",
        "# In this code, we defined multiple variables and assigned their values in order. Since the variable dogs is in the second\n",
        "# position and the second value assigned is the number 5, the print statement will return 5."
      ],
      "metadata": {
        "colab": {
          "base_uri": "https://localhost:8080/"
        },
        "id": "A3tE-OO6LTYW",
        "outputId": "ff5a3d0b-1a59-487b-d579-041f1cfe48ab"
      },
      "execution_count": 9,
      "outputs": [
        {
          "output_type": "stream",
          "name": "stdout",
          "text": [
            "5\n",
            "cute\n"
          ]
        }
      ]
    },
    {
      "cell_type": "markdown",
      "source": [
        "## More Strings"
      ],
      "metadata": {
        "id": "JZGErANSLTVv"
      }
    },
    {
      "cell_type": "markdown",
      "source": [
        "### Indexing"
      ],
      "metadata": {
        "id": "88A8eZBRLTTJ"
      }
    },
    {
      "cell_type": "code",
      "source": [
        "greeting = 'Hello world!'\n",
        "# In this line we created the variable greeting and assinged the value \"Hello world!\""
      ],
      "metadata": {
        "id": "t_g2qLWdLTQj"
      },
      "execution_count": 11,
      "outputs": []
    },
    {
      "cell_type": "code",
      "source": [
        "greeting\n",
        "# In this line, we requested the computer to print the value of the variable greeting which gives us \"Hello world!\""
      ],
      "metadata": {
        "colab": {
          "base_uri": "https://localhost:8080/",
          "height": 35
        },
        "id": "fexhNf_fLTON",
        "outputId": "6acc17b5-636e-4aa6-ecd8-1ac1cb38d6eb"
      },
      "execution_count": 12,
      "outputs": [
        {
          "output_type": "execute_result",
          "data": {
            "text/plain": [
              "'Hello world!'"
            ],
            "application/vnd.google.colaboratory.intrinsic+json": {
              "type": "string"
            }
          },
          "metadata": {},
          "execution_count": 12
        }
      ]
    },
    {
      "cell_type": "code",
      "source": [
        "print(greeting[4])\n",
        "# In this line, we are print the position of the character that is found in the 4th place of the short sentence \"Hello world!\" where o is the 4th character."
      ],
      "metadata": {
        "colab": {
          "base_uri": "https://localhost:8080/"
        },
        "id": "3casX_ZTLTLn",
        "outputId": "452d6659-4ab1-4982-bf1f-06e809968407"
      },
      "execution_count": 13,
      "outputs": [
        {
          "output_type": "stream",
          "name": "stdout",
          "text": [
            "o\n"
          ]
        }
      ]
    },
    {
      "cell_type": "code",
      "source": [
        "# The 3rd, the 5th, and/or the 15th\n",
        "word = \"This is what a full sentence looks like\"\n",
        "print(word[3])\n",
        "print(word[5])\n",
        "print(word[15])\n",
        "# In this code, we followed the same example that we did above by printing the character that is found at the 3rd, 5th, and 15th place in the sentence."
      ],
      "metadata": {
        "id": "v0WbXeLJLTJQ",
        "colab": {
          "base_uri": "https://localhost:8080/"
        },
        "outputId": "e0e3e3f7-0a03-4e54-94a2-a3020772a932"
      },
      "execution_count": 16,
      "outputs": [
        {
          "output_type": "stream",
          "name": "stdout",
          "text": [
            "s\n",
            "i\n",
            "f\n"
          ]
        }
      ]
    },
    {
      "cell_type": "code",
      "source": [
        "len(word)\n",
        "# In this line, we use the len() to print the length of a variable. In this case, the sentence ^above^ is made of 39 characters including the spaces."
      ],
      "metadata": {
        "colab": {
          "base_uri": "https://localhost:8080/"
        },
        "id": "GgCypxbcLTES",
        "outputId": "1fcae9c4-514d-431f-d0a3-49de769bb0d6"
      },
      "execution_count": null,
      "outputs": [
        {
          "output_type": "execute_result",
          "data": {
            "text/plain": [
              "39"
            ]
          },
          "metadata": {},
          "execution_count": 41
        }
      ]
    },
    {
      "cell_type": "markdown",
      "source": [
        "## String Formatting"
      ],
      "metadata": {
        "id": "iwcd2HvAPl4o"
      }
    },
    {
      "cell_type": "code",
      "source": [
        "price = 59.99\n",
        "# In this line, we created a variable names price and gave it the value 59.99"
      ],
      "metadata": {
        "id": "6Urio4JSPl2C"
      },
      "execution_count": 18,
      "outputs": []
    },
    {
      "cell_type": "code",
      "source": [
        "message = 'The product cost ' + str(price) + ' dollars'\n",
        "# In this line, we created another varibale named message where we used the + symbol to add another element to the variable message.\n",
        "# In this case we covered price in str to treat the variable price as a string or text instead of number because we will get an error if\n",
        "# we try to add variables that are not the same."
      ],
      "metadata": {
        "id": "8eOlwk8JPlz9"
      },
      "execution_count": 19,
      "outputs": []
    },
    {
      "cell_type": "code",
      "source": [
        "message\n",
        "# Once we constructed our variable in the code ^above^, we make a call for the variable message which prints the sentence\n",
        "# 'The product cost 59.99 dollars'"
      ],
      "metadata": {
        "colab": {
          "base_uri": "https://localhost:8080/",
          "height": 35
        },
        "id": "6zHUnCofPlxW",
        "outputId": "c96516ea-c87d-4d38-f81a-984f7a5e84a4"
      },
      "execution_count": 20,
      "outputs": [
        {
          "output_type": "execute_result",
          "data": {
            "text/plain": [
              "'The product cost 59.99 dollars'"
            ],
            "application/vnd.google.colaboratory.intrinsic+json": {
              "type": "string"
            }
          },
          "metadata": {},
          "execution_count": 20
        }
      ]
    },
    {
      "cell_type": "markdown",
      "source": [
        "#### The .format() method!"
      ],
      "metadata": {
        "id": "l--uYK6kRGkF"
      }
    },
    {
      "cell_type": "code",
      "source": [
        "msg = \"The product cost {} dollars\".format(price)\n",
        "# In this line, we use the format method to call a variable that we don't want to type out everything we want to\n",
        "# write a line like this. Instead, we replace the {} in the content of the new varible."
      ],
      "metadata": {
        "id": "mh8eBtrxPluu"
      },
      "execution_count": null,
      "outputs": []
    },
    {
      "cell_type": "code",
      "source": [
        "msg\n",
        "# Here, we printed the content of the variable msg."
      ],
      "metadata": {
        "colab": {
          "base_uri": "https://localhost:8080/",
          "height": 35
        },
        "id": "3bdS-pNOPlsZ",
        "outputId": "f9c81f45-5db0-4725-8cc0-4eb2b02ff088"
      },
      "execution_count": null,
      "outputs": [
        {
          "output_type": "execute_result",
          "data": {
            "text/plain": [
              "'The product cost 59.99 dollars'"
            ],
            "application/vnd.google.colaboratory.intrinsic+json": {
              "type": "string"
            }
          },
          "metadata": {},
          "execution_count": 52
        }
      ]
    },
    {
      "cell_type": "code",
      "source": [
        "amount = 3\n",
        "total = amount * price\n",
        "# In this code, we defined a new variable called amount and gave it a value of 3.\n",
        "# Next, we multiply amount with the variables price which we created eariler and stored them in a new variable called total."
      ],
      "metadata": {
        "id": "wf2w4vQSPlpx"
      },
      "execution_count": 22,
      "outputs": []
    },
    {
      "cell_type": "code",
      "source": [
        "msg2 = \"For {} products at the price of {}, the total will be: {}\"\n",
        "# In this code, we show where we want to put some varaiables in the sentence by using {}."
      ],
      "metadata": {
        "id": "qFDu0w5uPlnL"
      },
      "execution_count": 25,
      "outputs": []
    },
    {
      "cell_type": "code",
      "source": [
        "print(msg2.format(amount, price, total))\n",
        "# In this line, we use the print function where we pass the format() function to msg2 by assigning the stating the values that we want to\n",
        "# use like in this case, the values amount, price, and total."
      ],
      "metadata": {
        "colab": {
          "base_uri": "https://localhost:8080/"
        },
        "id": "KmalgsZpLTB-",
        "outputId": "17b481d4-d0d7-4c19-c8ea-2d7079ae85e6"
      },
      "execution_count": 26,
      "outputs": [
        {
          "output_type": "stream",
          "name": "stdout",
          "text": [
            "For 3 products at the price of 59.99, the total will be: 179.97\n"
          ]
        }
      ]
    },
    {
      "cell_type": "code",
      "source": [
        "msg3 = \"For {0} products at the price of {1}, the total is: {2}\"\n",
        "print(msg3.format(amount, price, total))\n",
        "# In this line, we are printing the same thing as the code above^, however this time, we are mentioning the order in which we want the\n",
        "# computer to collect the values by putting the position of the variables in the msg3 message."
      ],
      "metadata": {
        "id": "NvvNRtnBLS_W",
        "colab": {
          "base_uri": "https://localhost:8080/"
        },
        "outputId": "16abe9d5-c7df-42ed-cc8e-92f0219c7659"
      },
      "execution_count": 27,
      "outputs": [
        {
          "output_type": "stream",
          "name": "stdout",
          "text": [
            "For 3 products at the price of 59.99, the total is: 179.97\n"
          ]
        }
      ]
    },
    {
      "cell_type": "markdown",
      "source": [
        "#### The f-string Method!"
      ],
      "metadata": {
        "id": "JCtpMEwjRQGx"
      }
    },
    {
      "cell_type": "code",
      "source": [
        "price = 19.99\n",
        "items = 3\n",
        "# In this code, we created 2 variables named price and items"
      ],
      "metadata": {
        "id": "-V34gEveRQEq"
      },
      "execution_count": 28,
      "outputs": []
    },
    {
      "cell_type": "code",
      "source": [
        "msg = f'This individual product is {price}'\n",
        "# In this line, we us the f to say that this is a f-string where we will insert a variables later by using {}.\n",
        "# This will help us maintain the structure of this varible by only changing the varible inside of {}."
      ],
      "metadata": {
        "id": "LsJP-4N7RQCL"
      },
      "execution_count": 29,
      "outputs": []
    },
    {
      "cell_type": "code",
      "source": [
        "msg\n",
        "# In this line we make a call to the variable msg which prints \"This individual product is 19.99\""
      ],
      "metadata": {
        "colab": {
          "base_uri": "https://localhost:8080/",
          "height": 35
        },
        "id": "ZOqrnvGgS5DE",
        "outputId": "284acd97-0645-4428-82f8-9585916a853b"
      },
      "execution_count": 30,
      "outputs": [
        {
          "output_type": "execute_result",
          "data": {
            "text/plain": [
              "'This individual product is 19.99'"
            ],
            "application/vnd.google.colaboratory.intrinsic+json": {
              "type": "string"
            }
          },
          "metadata": {},
          "execution_count": 30
        }
      ]
    },
    {
      "cell_type": "code",
      "source": [
        "msg2 = f'The total for your purchase is {price * items}'\n",
        "msg2\n",
        "# In this line we used the f-string format again however we passed 2 variables for multiplication\n",
        "# Then call for the variable msg2 printing the text \"The total for your purchase is 59.97\" where 59.97 is the total after the multiplication operation."
      ],
      "metadata": {
        "id": "_G1njb5AS5At",
        "colab": {
          "base_uri": "https://localhost:8080/",
          "height": 35
        },
        "outputId": "31597325-0eb7-44bc-de4e-e84bc54edcf3"
      },
      "execution_count": 32,
      "outputs": [
        {
          "output_type": "execute_result",
          "data": {
            "text/plain": [
              "'The total for your purchase is 59.97'"
            ],
            "application/vnd.google.colaboratory.intrinsic+json": {
              "type": "string"
            }
          },
          "metadata": {},
          "execution_count": 32
        }
      ]
    },
    {
      "cell_type": "code",
      "source": [],
      "metadata": {
        "id": "oy_oxkMWS47y"
      },
      "execution_count": 32,
      "outputs": []
    },
    {
      "cell_type": "code",
      "source": [],
      "metadata": {
        "id": "6Fnt8ELgS45S"
      },
      "execution_count": 32,
      "outputs": []
    }
  ]
}