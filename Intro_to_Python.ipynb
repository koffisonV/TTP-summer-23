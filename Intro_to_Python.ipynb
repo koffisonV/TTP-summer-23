{
  "nbformat": 4,
  "nbformat_minor": 0,
  "metadata": {
    "colab": {
      "provenance": [],
      "collapsed_sections": [
        "Hf3v736YJdut",
        "P8rnVQdAIi9p",
        "88A8eZBRLTTJ",
        "iwcd2HvAPl4o",
        "l--uYK6kRGkF",
        "JCtpMEwjRQGx"
      ],
      "authorship_tag": "ABX9TyNu3WlrSJJNLUKlIVVEn4d1",
      "include_colab_link": true
    },
    "kernelspec": {
      "name": "python3",
      "display_name": "Python 3"
    },
    "language_info": {
      "name": "python"
    }
  },
  "cells": [
    {
      "cell_type": "markdown",
      "metadata": {
        "id": "view-in-github",
        "colab_type": "text"
      },
      "source": [
        "<a href=\"https://colab.research.google.com/github/koffisonV/TTP-summer-23/blob/main/Intro_to_Python.ipynb\" target=\"_parent\"><img src=\"https://colab.research.google.com/assets/colab-badge.svg\" alt=\"Open In Colab\"/></a>"
      ]
    },
    {
      "cell_type": "markdown",
      "source": [
        "#Python Basics"
      ],
      "metadata": {
        "id": "wZAJEvOIHatn"
      }
    },
    {
      "cell_type": "markdown",
      "source": [
        "## Strings and print() function"
      ],
      "metadata": {
        "id": "Hf3v736YJdut"
      }
    },
    {
      "cell_type": "code",
      "source": [
        "print ('Hi there')\n",
        "# In this line I am using the print() method to print \"hi there\""
      ],
      "metadata": {
        "colab": {
          "base_uri": "https://localhost:8080/"
        },
        "id": "GjZ2bK4yIjW1",
        "outputId": "943edb5c-cbb2-4403-e55b-c8c1e8ff9a4e"
      },
      "execution_count": 2,
      "outputs": [
        {
          "output_type": "stream",
          "name": "stdout",
          "text": [
            "Hi there\n"
          ]
        }
      ]
    },
    {
      "cell_type": "code",
      "source": [
        "print(\"There are two types of slashes: \\\\ and /\")\n",
        "# In this line, I am using the \\ as an escape character reason why there is only one \\ showing"
      ],
      "metadata": {
        "colab": {
          "base_uri": "https://localhost:8080/"
        },
        "id": "hcwoJI6vIjTh",
        "outputId": "4438045c-acab-486b-82d1-7ec9d0b3c646"
      },
      "execution_count": 3,
      "outputs": [
        {
          "output_type": "stream",
          "name": "stdout",
          "text": [
            "There are two types of slashes: \\ and /\n"
          ]
        }
      ]
    },
    {
      "cell_type": "code",
      "source": [
        "print(\"\\n\\tThis is a tabbed line\\nThis is a regular line\")\n",
        "# In this code, we add an n to \\ representing a new line. It is followed by \\t where \"t\" stands for tab. Same applies for the second\n",
        "# sentence where we use \\n which signals to go to a new line and \"n\" standing for \"new\""
      ],
      "metadata": {
        "colab": {
          "base_uri": "https://localhost:8080/"
        },
        "id": "rCuM8lCiIjDE",
        "outputId": "d846066f-93e3-4899-e4b7-4e906bda34ce"
      },
      "execution_count": 4,
      "outputs": [
        {
          "output_type": "stream",
          "name": "stdout",
          "text": [
            "\n",
            "\tThis is a tabbed line\n",
            "This is a regular line\n"
          ]
        }
      ]
    },
    {
      "cell_type": "code",
      "source": [
        "print(\"first name\" + ' last name')\n",
        "# In this line, we use the + symbol to combine \"first name\" and \"last name\" into one sentence"
      ],
      "metadata": {
        "colab": {
          "base_uri": "https://localhost:8080/"
        },
        "id": "VZGGbar1IjAc",
        "outputId": "07c70b69-c86d-4d54-c9a4-f7d218b6679b"
      },
      "execution_count": 5,
      "outputs": [
        {
          "output_type": "stream",
          "name": "stdout",
          "text": [
            "first name last name\n"
          ]
        }
      ]
    },
    {
      "cell_type": "markdown",
      "source": [
        "## Variables"
      ],
      "metadata": {
        "id": "P8rnVQdAIi9p"
      }
    },
    {
      "cell_type": "code",
      "source": [
        "dogs = 3\n",
        "cats = 'Many fluffy cats'\n",
        "# In this part, we are defining a value by giving it a meaning or name. The meaning can be either words, sentences, or numbers."
      ],
      "metadata": {
        "id": "liRWLlu1Ii0d"
      },
      "execution_count": 6,
      "outputs": []
    },
    {
      "cell_type": "code",
      "source": [
        "cats\n",
        "# In this line, we are calling the value cats which we defined ^above^, and prints it to the screen"
      ],
      "metadata": {
        "colab": {
          "base_uri": "https://localhost:8080/",
          "height": 35
        },
        "id": "1kp8ToFAIix3",
        "outputId": "188f1fbe-e4e5-4a96-9f86-d6859498494c"
      },
      "execution_count": 7,
      "outputs": [
        {
          "output_type": "execute_result",
          "data": {
            "text/plain": [
              "'Many fluffy cats'"
            ],
            "application/vnd.google.colaboratory.intrinsic+json": {
              "type": "string"
            }
          },
          "metadata": {},
          "execution_count": 7
        }
      ]
    },
    {
      "cell_type": "code",
      "source": [
        "type(cats)\n",
        "# In this line, we are using the type() function so that the computer tells us what type of information this is\n",
        "# In this case, cats which we defined earlier, is a string because it is made of words."
      ],
      "metadata": {
        "colab": {
          "base_uri": "https://localhost:8080/"
        },
        "id": "nvUrVUmJIivA",
        "outputId": "c2c88c29-450d-4001-ed1a-df49148eef56"
      },
      "execution_count": 8,
      "outputs": [
        {
          "output_type": "execute_result",
          "data": {
            "text/plain": [
              "str"
            ]
          },
          "metadata": {},
          "execution_count": 8
        }
      ]
    },
    {
      "cell_type": "code",
      "source": [
        "type(dogs)\n",
        "# In this line we used the type() function to tell us what this variable is made of\n",
        "# The result is printed to the screen indicating that the varible dogs is made of numbers."
      ],
      "metadata": {
        "colab": {
          "base_uri": "https://localhost:8080/"
        },
        "id": "foG6BhfCIiFV",
        "outputId": "61191a92-e158-4c2a-826b-601b0542a7a0"
      },
      "execution_count": 9,
      "outputs": [
        {
          "output_type": "execute_result",
          "data": {
            "text/plain": [
              "int"
            ]
          },
          "metadata": {},
          "execution_count": 9
        }
      ]
    },
    {
      "cell_type": "code",
      "source": [
        "hi = 'Hello'\n",
        "name = ' John'\n",
        "print(hi + name)\n",
        "# In this code, we defined 2 varibles and gave them the name hi & name. Since both varibales are made of words (string), we use the +\n",
        "# symbol to combine both varibales into 1 long sentence which gives the sentence \"Hello John\""
      ],
      "metadata": {
        "colab": {
          "base_uri": "https://localhost:8080/"
        },
        "id": "dG-59yvtIiC_",
        "outputId": "4d02d8c9-c97c-4808-cdc9-d7bf40d8a62f"
      },
      "execution_count": 10,
      "outputs": [
        {
          "output_type": "stream",
          "name": "stdout",
          "text": [
            "Hello John\n"
          ]
        }
      ]
    },
    {
      "cell_type": "code",
      "source": [
        "more_dogs = 5\n",
        "# In this line, we created another varibales named more_dogs and gave it the number 5.\n",
        "\n",
        "print(dogs + more_dogs)\n",
        "# In this line, we are adding two values, dogs which we defined earlier and gave it the number 3, and more_dogs which eqauls to 5.\n",
        "# By adding dogs and more_dogs, or 5 + 3, we get 8 which is printed on the screen."
      ],
      "metadata": {
        "colab": {
          "base_uri": "https://localhost:8080/"
        },
        "id": "-x7XLKn6IiAa",
        "outputId": "eaa660c0-c442-440f-9b07-8cb06e581b7e"
      },
      "execution_count": 11,
      "outputs": [
        {
          "output_type": "stream",
          "name": "stdout",
          "text": [
            "8\n"
          ]
        }
      ]
    },
    {
      "cell_type": "code",
      "source": [
        "price = 19.99\n",
        "amount = 3\n",
        "# In this line, we defined two variables price holding the price of an object and the amount of an object."
      ],
      "metadata": {
        "id": "JvUukZMfLTgK"
      },
      "execution_count": 12,
      "outputs": []
    },
    {
      "cell_type": "code",
      "source": [
        "print(price * amount)\n",
        "# We use the print function with the * sign to signal that we want to multiply both values which gives us 59.97 just like we would do with a calculator."
      ],
      "metadata": {
        "colab": {
          "base_uri": "https://localhost:8080/"
        },
        "id": "travIoTyLTdU",
        "outputId": "fe2f4b43-9ca2-4fcc-ddb0-14045986d7c7"
      },
      "execution_count": 13,
      "outputs": [
        {
          "output_type": "stream",
          "name": "stdout",
          "text": [
            "59.97\n"
          ]
        }
      ]
    },
    {
      "cell_type": "code",
      "source": [
        "# Variable re-assignment\n",
        "dogs = \"New value\"\n",
        "print(dogs)\n",
        "# In this lines, we assigned a value of number 5 to the variable dogs earlier, but now, we assign\n",
        "# a new value to the variable dogs which is now a string or a short sentence that says \"New value\""
      ],
      "metadata": {
        "colab": {
          "base_uri": "https://localhost:8080/"
        },
        "id": "2pSeY7G7LTa9",
        "outputId": "6339b6c9-a500-42db-c2cd-a9c821fc26c2"
      },
      "execution_count": 14,
      "outputs": [
        {
          "output_type": "stream",
          "name": "stdout",
          "text": [
            "New value\n"
          ]
        }
      ]
    },
    {
      "cell_type": "code",
      "source": [
        "cats, dogs, rabbits = 2, 5, 'cute'\n",
        "\n",
        "print(dogs)\n",
        "print(rabbits)\n",
        "# In this code, we defined multiple variables and assigned their values in order. Since the variable dogs is in the second\n",
        "# position and the second value assigned is the number 5, the print statement will return 5."
      ],
      "metadata": {
        "colab": {
          "base_uri": "https://localhost:8080/"
        },
        "id": "A3tE-OO6LTYW",
        "outputId": "97764aab-f9ae-4d6e-a371-c0c8b2bd07ba"
      },
      "execution_count": 15,
      "outputs": [
        {
          "output_type": "stream",
          "name": "stdout",
          "text": [
            "5\n",
            "cute\n"
          ]
        }
      ]
    },
    {
      "cell_type": "markdown",
      "source": [
        "## More Strings"
      ],
      "metadata": {
        "id": "JZGErANSLTVv"
      }
    },
    {
      "cell_type": "markdown",
      "source": [
        "### Indexing"
      ],
      "metadata": {
        "id": "88A8eZBRLTTJ"
      }
    },
    {
      "cell_type": "code",
      "source": [
        "greeting = 'Hello world!'\n",
        "# In this line we created the variable greeting and assinged the value \"Hello world!\""
      ],
      "metadata": {
        "id": "t_g2qLWdLTQj"
      },
      "execution_count": 16,
      "outputs": []
    },
    {
      "cell_type": "code",
      "source": [
        "greeting\n",
        "# In this line, we requested the computer to print the value of the variable greeting which gives us \"Hello world!\""
      ],
      "metadata": {
        "colab": {
          "base_uri": "https://localhost:8080/",
          "height": 35
        },
        "id": "fexhNf_fLTON",
        "outputId": "2313409f-962c-4a79-b342-192d8d4def86"
      },
      "execution_count": 17,
      "outputs": [
        {
          "output_type": "execute_result",
          "data": {
            "text/plain": [
              "'Hello world!'"
            ],
            "application/vnd.google.colaboratory.intrinsic+json": {
              "type": "string"
            }
          },
          "metadata": {},
          "execution_count": 17
        }
      ]
    },
    {
      "cell_type": "code",
      "source": [
        "print(greeting[4])\n",
        "# In this line, we are print the position of the character that is found in the 4th place of the short sentence \"Hello world!\" where o is the 4th character."
      ],
      "metadata": {
        "colab": {
          "base_uri": "https://localhost:8080/"
        },
        "id": "3casX_ZTLTLn",
        "outputId": "b2df5136-f473-4d33-b9a1-62888a59b881"
      },
      "execution_count": 18,
      "outputs": [
        {
          "output_type": "stream",
          "name": "stdout",
          "text": [
            "o\n"
          ]
        }
      ]
    },
    {
      "cell_type": "code",
      "source": [
        "# The 3rd, the 5th, and/or the 15th\n",
        "word = \"This is what a full sentence looks like\"\n",
        "print(word[3])\n",
        "print(word[5])\n",
        "print(word[15])\n",
        "# In this code, we followed the same example that we did above by printing the character that is found at the 3rd, 5th, and 15th place in the sentence."
      ],
      "metadata": {
        "id": "v0WbXeLJLTJQ",
        "colab": {
          "base_uri": "https://localhost:8080/"
        },
        "outputId": "e1c70cf9-04f5-4800-83e9-730636ac6d98"
      },
      "execution_count": 19,
      "outputs": [
        {
          "output_type": "stream",
          "name": "stdout",
          "text": [
            "s\n",
            "i\n",
            "f\n"
          ]
        }
      ]
    },
    {
      "cell_type": "code",
      "source": [
        "len(word)\n",
        "# In this line, we use the len() to print the length of a variable. In this case, the sentence ^above^ is made of 39 characters including the spaces."
      ],
      "metadata": {
        "colab": {
          "base_uri": "https://localhost:8080/"
        },
        "id": "GgCypxbcLTES",
        "outputId": "8d239890-322d-4ff2-c234-68de78e8fdbd"
      },
      "execution_count": 20,
      "outputs": [
        {
          "output_type": "execute_result",
          "data": {
            "text/plain": [
              "39"
            ]
          },
          "metadata": {},
          "execution_count": 20
        }
      ]
    },
    {
      "cell_type": "markdown",
      "source": [
        "### String Formatting"
      ],
      "metadata": {
        "id": "iwcd2HvAPl4o"
      }
    },
    {
      "cell_type": "code",
      "source": [
        "price = 59.99\n",
        "# In this line, we created a variable names price and gave it the value 59.99"
      ],
      "metadata": {
        "id": "6Urio4JSPl2C"
      },
      "execution_count": 21,
      "outputs": []
    },
    {
      "cell_type": "code",
      "source": [
        "message = 'The product cost ' + str(price) + ' dollars'\n",
        "# In this line, we created another varibale named message where we used the + symbol to add another element to the variable message.\n",
        "# In this case we covered price in str to treat the variable price as a string or text instead of number because we will get an error if\n",
        "# we try to add variables that are not the same."
      ],
      "metadata": {
        "id": "8eOlwk8JPlz9"
      },
      "execution_count": 22,
      "outputs": []
    },
    {
      "cell_type": "code",
      "source": [
        "message\n",
        "# Once we constructed our variable in the code ^above^, we make a call for the variable message which prints the sentence\n",
        "# 'The product cost 59.99 dollars'"
      ],
      "metadata": {
        "colab": {
          "base_uri": "https://localhost:8080/",
          "height": 35
        },
        "id": "6zHUnCofPlxW",
        "outputId": "0716efc4-9a04-4949-c1db-5835aed57317"
      },
      "execution_count": 23,
      "outputs": [
        {
          "output_type": "execute_result",
          "data": {
            "text/plain": [
              "'The product cost 59.99 dollars'"
            ],
            "application/vnd.google.colaboratory.intrinsic+json": {
              "type": "string"
            }
          },
          "metadata": {},
          "execution_count": 23
        }
      ]
    },
    {
      "cell_type": "markdown",
      "source": [
        "#### The .format() method!"
      ],
      "metadata": {
        "id": "l--uYK6kRGkF"
      }
    },
    {
      "cell_type": "code",
      "source": [
        "msg = \"The product cost {} dollars\".format(price)\n",
        "# In this line, we use the format method to call a variable that we don't want to type out everything we want to\n",
        "# write a line like this. Instead, we replace the {} in the content of the new varible."
      ],
      "metadata": {
        "id": "mh8eBtrxPluu"
      },
      "execution_count": 24,
      "outputs": []
    },
    {
      "cell_type": "code",
      "source": [
        "msg\n",
        "# Here, we printed the content of the variable msg."
      ],
      "metadata": {
        "colab": {
          "base_uri": "https://localhost:8080/",
          "height": 35
        },
        "id": "3bdS-pNOPlsZ",
        "outputId": "65cdea3d-e54d-44f2-b18a-eae7d295c6e0"
      },
      "execution_count": 25,
      "outputs": [
        {
          "output_type": "execute_result",
          "data": {
            "text/plain": [
              "'The product cost 59.99 dollars'"
            ],
            "application/vnd.google.colaboratory.intrinsic+json": {
              "type": "string"
            }
          },
          "metadata": {},
          "execution_count": 25
        }
      ]
    },
    {
      "cell_type": "code",
      "source": [
        "amount = 3\n",
        "total = amount * price\n",
        "# In this code, we defined a new variable called amount and gave it a value of 3.\n",
        "# Next, we multiply amount with the variables price which we created eariler and stored them in a new variable called total."
      ],
      "metadata": {
        "id": "wf2w4vQSPlpx"
      },
      "execution_count": 26,
      "outputs": []
    },
    {
      "cell_type": "code",
      "source": [
        "msg2 = \"For {} products at the price of {}, the total will be: {}\"\n",
        "# In this code, we show where we want to put some varaiables in the sentence by using {}."
      ],
      "metadata": {
        "id": "qFDu0w5uPlnL"
      },
      "execution_count": 27,
      "outputs": []
    },
    {
      "cell_type": "code",
      "source": [
        "print(msg2.format(amount, price, total))\n",
        "# In this line, we use the print function where we pass the format() function to msg2 by assigning the stating the values that we want to\n",
        "# use like in this case, the values amount, price, and total."
      ],
      "metadata": {
        "colab": {
          "base_uri": "https://localhost:8080/"
        },
        "id": "KmalgsZpLTB-",
        "outputId": "0c6cbf17-f8a5-4e9a-90ad-b0f971fae37f"
      },
      "execution_count": 28,
      "outputs": [
        {
          "output_type": "stream",
          "name": "stdout",
          "text": [
            "For 3 products at the price of 59.99, the total will be: 179.97\n"
          ]
        }
      ]
    },
    {
      "cell_type": "code",
      "source": [
        "msg3 = \"For {0} products at the price of {1}, the total is: {2}\"\n",
        "print(msg3.format(amount, price, total))\n",
        "# In this line, we are printing the same thing as the code above^, however this time, we are mentioning the order in which we want the\n",
        "# computer to collect the values by putting the position of the variables in the msg3 message."
      ],
      "metadata": {
        "id": "NvvNRtnBLS_W",
        "colab": {
          "base_uri": "https://localhost:8080/"
        },
        "outputId": "d6be9e09-cd0e-4bc0-d7d9-5276c53dbc94"
      },
      "execution_count": 29,
      "outputs": [
        {
          "output_type": "stream",
          "name": "stdout",
          "text": [
            "For 3 products at the price of 59.99, the total is: 179.97\n"
          ]
        }
      ]
    },
    {
      "cell_type": "markdown",
      "source": [
        "#### The f-string Method!"
      ],
      "metadata": {
        "id": "JCtpMEwjRQGx"
      }
    },
    {
      "cell_type": "code",
      "source": [
        "price = 19.99\n",
        "items = 3\n",
        "# In this code, we created 2 variables named price and items"
      ],
      "metadata": {
        "id": "-V34gEveRQEq"
      },
      "execution_count": 30,
      "outputs": []
    },
    {
      "cell_type": "code",
      "source": [
        "msg = f'This individual product is {price}'\n",
        "# In this line, we us the f to say that this is a f-string where we will insert a variables later by using {}.\n",
        "# This will help us maintain the structure of this varible by only changing the varible inside of {}."
      ],
      "metadata": {
        "id": "LsJP-4N7RQCL"
      },
      "execution_count": 31,
      "outputs": []
    },
    {
      "cell_type": "code",
      "source": [
        "msg\n",
        "# In this line we make a call to the variable msg which prints \"This individual product is 19.99\""
      ],
      "metadata": {
        "colab": {
          "base_uri": "https://localhost:8080/",
          "height": 35
        },
        "id": "ZOqrnvGgS5DE",
        "outputId": "b004cc35-05d4-47ae-face-9917c081a8c2"
      },
      "execution_count": 32,
      "outputs": [
        {
          "output_type": "execute_result",
          "data": {
            "text/plain": [
              "'This individual product is 19.99'"
            ],
            "application/vnd.google.colaboratory.intrinsic+json": {
              "type": "string"
            }
          },
          "metadata": {},
          "execution_count": 32
        }
      ]
    },
    {
      "cell_type": "code",
      "source": [
        "msg2 = f'The total for your purchase is {price * items}'\n",
        "msg2\n",
        "# In this line we used the f-string format again however we passed 2 variables for multiplication\n",
        "# Then call for the variable msg2 printing the text \"The total for your purchase is 59.97\" where 59.97 is the total after the multiplication operation."
      ],
      "metadata": {
        "id": "_G1njb5AS5At",
        "colab": {
          "base_uri": "https://localhost:8080/",
          "height": 35
        },
        "outputId": "691fca47-a7cf-4375-fe1f-33f2c5bba900"
      },
      "execution_count": 33,
      "outputs": [
        {
          "output_type": "execute_result",
          "data": {
            "text/plain": [
              "'The total for your purchase is 59.97'"
            ],
            "application/vnd.google.colaboratory.intrinsic+json": {
              "type": "string"
            }
          },
          "metadata": {},
          "execution_count": 33
        }
      ]
    },
    {
      "cell_type": "code",
      "source": [],
      "metadata": {
        "id": "oy_oxkMWS47y"
      },
      "execution_count": 33,
      "outputs": []
    },
    {
      "cell_type": "code",
      "source": [],
      "metadata": {
        "id": "6Fnt8ELgS45S"
      },
      "execution_count": 33,
      "outputs": []
    },
    {
      "cell_type": "markdown",
      "source": [
        "#### String functions"
      ],
      "metadata": {
        "id": "xph94lIYJPAO"
      }
    },
    {
      "cell_type": "code",
      "source": [
        "# str(), print(), len()"
      ],
      "metadata": {
        "id": "xdQWrH3VJO95"
      },
      "execution_count": 34,
      "outputs": []
    },
    {
      "cell_type": "code",
      "source": [
        "dir(msg)"
      ],
      "metadata": {
        "colab": {
          "base_uri": "https://localhost:8080/"
        },
        "id": "AhTZN36HJO7i",
        "outputId": "29f23e29-092b-4913-8933-8ce6c7dfd744"
      },
      "execution_count": 35,
      "outputs": [
        {
          "output_type": "execute_result",
          "data": {
            "text/plain": [
              "['__add__',\n",
              " '__class__',\n",
              " '__contains__',\n",
              " '__delattr__',\n",
              " '__dir__',\n",
              " '__doc__',\n",
              " '__eq__',\n",
              " '__format__',\n",
              " '__ge__',\n",
              " '__getattribute__',\n",
              " '__getitem__',\n",
              " '__getnewargs__',\n",
              " '__gt__',\n",
              " '__hash__',\n",
              " '__init__',\n",
              " '__init_subclass__',\n",
              " '__iter__',\n",
              " '__le__',\n",
              " '__len__',\n",
              " '__lt__',\n",
              " '__mod__',\n",
              " '__mul__',\n",
              " '__ne__',\n",
              " '__new__',\n",
              " '__reduce__',\n",
              " '__reduce_ex__',\n",
              " '__repr__',\n",
              " '__rmod__',\n",
              " '__rmul__',\n",
              " '__setattr__',\n",
              " '__sizeof__',\n",
              " '__str__',\n",
              " '__subclasshook__',\n",
              " 'capitalize',\n",
              " 'casefold',\n",
              " 'center',\n",
              " 'count',\n",
              " 'encode',\n",
              " 'endswith',\n",
              " 'expandtabs',\n",
              " 'find',\n",
              " 'format',\n",
              " 'format_map',\n",
              " 'index',\n",
              " 'isalnum',\n",
              " 'isalpha',\n",
              " 'isascii',\n",
              " 'isdecimal',\n",
              " 'isdigit',\n",
              " 'isidentifier',\n",
              " 'islower',\n",
              " 'isnumeric',\n",
              " 'isprintable',\n",
              " 'isspace',\n",
              " 'istitle',\n",
              " 'isupper',\n",
              " 'join',\n",
              " 'ljust',\n",
              " 'lower',\n",
              " 'lstrip',\n",
              " 'maketrans',\n",
              " 'partition',\n",
              " 'removeprefix',\n",
              " 'removesuffix',\n",
              " 'replace',\n",
              " 'rfind',\n",
              " 'rindex',\n",
              " 'rjust',\n",
              " 'rpartition',\n",
              " 'rsplit',\n",
              " 'rstrip',\n",
              " 'split',\n",
              " 'splitlines',\n",
              " 'startswith',\n",
              " 'strip',\n",
              " 'swapcase',\n",
              " 'title',\n",
              " 'translate',\n",
              " 'upper',\n",
              " 'zfill']"
            ]
          },
          "metadata": {},
          "execution_count": 35
        }
      ]
    },
    {
      "cell_type": "code",
      "source": [
        "msg"
      ],
      "metadata": {
        "colab": {
          "base_uri": "https://localhost:8080/",
          "height": 35
        },
        "id": "of2Oq22SJO48",
        "outputId": "7eac49ee-6b64-453c-e72a-f77920d66091"
      },
      "execution_count": 36,
      "outputs": [
        {
          "output_type": "execute_result",
          "data": {
            "text/plain": [
              "'This individual product is 19.99'"
            ],
            "application/vnd.google.colaboratory.intrinsic+json": {
              "type": "string"
            }
          },
          "metadata": {},
          "execution_count": 36
        }
      ]
    },
    {
      "cell_type": "code",
      "source": [
        "msg = 'Hello my name is Bob'"
      ],
      "metadata": {
        "id": "MNGNDabGJO2W"
      },
      "execution_count": 37,
      "outputs": []
    },
    {
      "cell_type": "code",
      "source": [
        "words = msg.split(' ')"
      ],
      "metadata": {
        "id": "XSDCLPrZJOz_"
      },
      "execution_count": 38,
      "outputs": []
    },
    {
      "cell_type": "code",
      "source": [
        "print(words)"
      ],
      "metadata": {
        "colab": {
          "base_uri": "https://localhost:8080/"
        },
        "id": "-dIf5bq-JOxY",
        "outputId": "57924b9f-ad93-4825-c8d0-ee2235f70480"
      },
      "execution_count": 39,
      "outputs": [
        {
          "output_type": "stream",
          "name": "stdout",
          "text": [
            "['Hello', 'my', 'name', 'is', 'Bob']\n"
          ]
        }
      ]
    },
    {
      "cell_type": "code",
      "source": [
        "elements = msg.split('b')"
      ],
      "metadata": {
        "id": "MqXBUDgxJOux"
      },
      "execution_count": 40,
      "outputs": []
    },
    {
      "cell_type": "code",
      "source": [
        "print(elements)"
      ],
      "metadata": {
        "colab": {
          "base_uri": "https://localhost:8080/"
        },
        "id": "ITrMZphcKHWI",
        "outputId": "b718c77d-be6f-48b3-e25b-8037caf66058"
      },
      "execution_count": 41,
      "outputs": [
        {
          "output_type": "stream",
          "name": "stdout",
          "text": [
            "['Hello my name is Bo', '']\n"
          ]
        }
      ]
    },
    {
      "cell_type": "code",
      "source": [
        "print(msg.upper())"
      ],
      "metadata": {
        "colab": {
          "base_uri": "https://localhost:8080/"
        },
        "id": "kpzLNoIeKHTi",
        "outputId": "40e84ed4-d6ac-4bba-dcb2-c86b91b7ca8c"
      },
      "execution_count": 42,
      "outputs": [
        {
          "output_type": "stream",
          "name": "stdout",
          "text": [
            "HELLO MY NAME IS BOB\n"
          ]
        }
      ]
    },
    {
      "cell_type": "code",
      "source": [
        "print(msg.lower())"
      ],
      "metadata": {
        "colab": {
          "base_uri": "https://localhost:8080/"
        },
        "id": "euZQTxygKHQ8",
        "outputId": "3b90715a-d39b-4f11-ece3-98289138bb25"
      },
      "execution_count": 43,
      "outputs": [
        {
          "output_type": "stream",
          "name": "stdout",
          "text": [
            "hello my name is bob\n"
          ]
        }
      ]
    },
    {
      "cell_type": "markdown",
      "source": [
        "## The input() method"
      ],
      "metadata": {
        "id": "4pJfbYvoKHOk"
      }
    },
    {
      "cell_type": "code",
      "source": [
        "data = input('What is yout name: ')\n",
        "print(f'Hello {data}, hope your day is great!')\n",
        "# In this code, I'm asking the user to enter a name of their choice. After entering the name\n",
        "# I pass the name in a print statement using the f-string method"
      ],
      "metadata": {
        "colab": {
          "base_uri": "https://localhost:8080/"
        },
        "id": "IIkJnEuxKHL9",
        "outputId": "602843f0-c511-4509-c61a-1244ba8cbfa3"
      },
      "execution_count": 118,
      "outputs": [
        {
          "output_type": "stream",
          "name": "stdout",
          "text": [
            "What is yout name: Chris\n",
            "Hello Chris, hope your day is great!\n"
          ]
        }
      ]
    },
    {
      "cell_type": "code",
      "source": [
        "print(data)\n",
        "# In this line I am checking what value is stored in data"
      ],
      "metadata": {
        "colab": {
          "base_uri": "https://localhost:8080/"
        },
        "id": "axj68QmlJOsN",
        "outputId": "219882c8-3563-4112-c0fc-d7ab0960c4c2"
      },
      "execution_count": 119,
      "outputs": [
        {
          "output_type": "stream",
          "name": "stdout",
          "text": [
            "Chris\n"
          ]
        }
      ]
    },
    {
      "cell_type": "code",
      "source": [
        "num = int(input('enter a number: '))\n",
        "print(num)\n",
        "# Here, I am asking the user to enter a number of their choice"
      ],
      "metadata": {
        "colab": {
          "base_uri": "https://localhost:8080/"
        },
        "id": "UZLRdPkPJOpk",
        "outputId": "be0d99d1-5c68-4c26-912d-f841db6a17b5"
      },
      "execution_count": 46,
      "outputs": [
        {
          "output_type": "stream",
          "name": "stdout",
          "text": [
            "enter a number: 3\n",
            "3\n"
          ]
        }
      ]
    },
    {
      "cell_type": "code",
      "source": [
        "type(num)\n",
        "# In this line, I am checking what type of value is stored in num using type()"
      ],
      "metadata": {
        "colab": {
          "base_uri": "https://localhost:8080/"
        },
        "id": "TPvtgfoiJOm_",
        "outputId": "e29347df-6ae5-4824-acfd-568c438fecc0"
      },
      "execution_count": 120,
      "outputs": [
        {
          "output_type": "execute_result",
          "data": {
            "text/plain": [
              "int"
            ]
          },
          "metadata": {},
          "execution_count": 120
        }
      ]
    },
    {
      "cell_type": "code",
      "source": [],
      "metadata": {
        "id": "xQPF4KjqJOkn"
      },
      "execution_count": 120,
      "outputs": []
    },
    {
      "cell_type": "code",
      "source": [
        "# Task: Create a script that greets a user\n",
        "# Name, age, favorite hobby.\n",
        "user_name = input('What is your name: ')\n",
        "user_age = int(input('What is your age: ')) # Since we want the age to be as integer, we wrap the input request in a int format\n",
        "user_hobby = input('What is your favorite hobby: ')\n",
        "print(f\"Hello guys! My name is {user_name}, I'm {user_age} years old, and my favorite hobby is {user_hobby}.\")\n",
        "\n",
        "# In this code, I'm asking the user to input their name, age, and favorite hobby.\n",
        "# After receiving the input, we print a greeting message using the f-string method to facilitate the modification of the code"
      ],
      "metadata": {
        "colab": {
          "base_uri": "https://localhost:8080/"
        },
        "id": "2AS2xctgJOiV",
        "outputId": "beb5199f-6218-44ed-f467-309d61de320c"
      },
      "execution_count": 49,
      "outputs": [
        {
          "output_type": "stream",
          "name": "stdout",
          "text": [
            "What is your name: bob\n",
            "What is your age: 23\n",
            "What is your favorite hobby: running\n",
            "Hello guys! My name is bob, I'm 23 years old, and my favorite hobby is running.\n"
          ]
        }
      ]
    },
    {
      "cell_type": "markdown",
      "source": [
        "## Numbers"
      ],
      "metadata": {
        "id": "B3VdUJQCJOfr"
      }
    },
    {
      "cell_type": "markdown",
      "source": [
        "### Conversions"
      ],
      "metadata": {
        "id": "W6jPfg9hJOdV"
      }
    },
    {
      "cell_type": "code",
      "source": [
        "value = 3.8\n",
        "print(type(value)) # checking what type of variable is value which is float\n",
        "convert = int(value)\n",
        "print(convert)\n",
        "print(type(convert)) # checking what type of variable is value which is integer\n",
        "# In thi code, I am checking the initial type of the variable value\n",
        "# After checking the type, we wrap the variable value in an integer format that we stored in a new variable called convert\n",
        "# We then print the type of value stored in the variable convert returing an integer"
      ],
      "metadata": {
        "colab": {
          "base_uri": "https://localhost:8080/"
        },
        "id": "OCJIOnIqNl_T",
        "outputId": "ee56a204-4f87-4e34-b4a3-e17887758fac"
      },
      "execution_count": 122,
      "outputs": [
        {
          "output_type": "stream",
          "name": "stdout",
          "text": [
            "<class 'float'>\n",
            "3\n",
            "<class 'int'>\n"
          ]
        }
      ]
    },
    {
      "cell_type": "code",
      "source": [
        "number = int('25')\n",
        "print(number)\n",
        "print(type(number))\n",
        "# Here, we are doing the same thing by checking what class does the variable number belongs to"
      ],
      "metadata": {
        "colab": {
          "base_uri": "https://localhost:8080/"
        },
        "id": "tBriqQqeNl7x",
        "outputId": "e715ee2d-fb00-4fca-a84d-4eacc216a287"
      },
      "execution_count": 51,
      "outputs": [
        {
          "output_type": "stream",
          "name": "stdout",
          "text": [
            "25\n",
            "<class 'int'>\n"
          ]
        }
      ]
    },
    {
      "cell_type": "markdown",
      "source": [
        "### Operation"
      ],
      "metadata": {
        "id": "ELtL4ejVNlry"
      }
    },
    {
      "cell_type": "markdown",
      "source": [
        "#### The `Modulus` Operator"
      ],
      "metadata": {
        "id": "WMpxjg9LNloZ"
      }
    },
    {
      "cell_type": "markdown",
      "source": [
        "#### The power operator"
      ],
      "metadata": {
        "id": "Pz_Q9VZ5NllU"
      }
    },
    {
      "cell_type": "code",
      "source": [
        "print(9**4)\n",
        "# In this line of code, we are calculating 9 to the power of 4 by using the double star (**)"
      ],
      "metadata": {
        "colab": {
          "base_uri": "https://localhost:8080/"
        },
        "id": "S0hbZWtaYVyC",
        "outputId": "a29d89b6-2503-4abc-b650-5541f035bd82"
      },
      "execution_count": 52,
      "outputs": [
        {
          "output_type": "stream",
          "name": "stdout",
          "text": [
            "6561\n"
          ]
        }
      ]
    },
    {
      "cell_type": "code",
      "source": [
        "2**3\n",
        "# We are calculating 2 to the power of 3"
      ],
      "metadata": {
        "colab": {
          "base_uri": "https://localhost:8080/"
        },
        "id": "59h7I2nLYVvL",
        "outputId": "4cbeeb33-dd3a-40cb-f7dd-6ec4473995a6"
      },
      "execution_count": 53,
      "outputs": [
        {
          "output_type": "execute_result",
          "data": {
            "text/plain": [
              "8"
            ]
          },
          "metadata": {},
          "execution_count": 53
        }
      ]
    },
    {
      "cell_type": "markdown",
      "source": [
        "#### The floor opertor"
      ],
      "metadata": {
        "id": "poRbA5KCYVmU"
      }
    },
    {
      "cell_type": "code",
      "source": [
        "print(9 // 4)\n",
        "# In this code, we are checking how many times does the number 4 goes into 9 byt using the // symbol"
      ],
      "metadata": {
        "colab": {
          "base_uri": "https://localhost:8080/"
        },
        "id": "kQjGg0GsYVju",
        "outputId": "79ee839a-5b8a-45af-928c-cc8d860b33e6"
      },
      "execution_count": 54,
      "outputs": [
        {
          "output_type": "stream",
          "name": "stdout",
          "text": [
            "2\n"
          ]
        }
      ]
    },
    {
      "cell_type": "markdown",
      "source": [
        "#### Assignment operators"
      ],
      "metadata": {
        "id": "GEw_Uc_oYVhI"
      }
    },
    {
      "cell_type": "code",
      "source": [
        "x = 9"
      ],
      "metadata": {
        "id": "y5C7Ac8YYVew"
      },
      "execution_count": 55,
      "outputs": []
    },
    {
      "cell_type": "code",
      "source": [
        "x += 4\n",
        "print(x)\n",
        "# This ia fast way of representing 9 + 4 since we defined x earlier."
      ],
      "metadata": {
        "colab": {
          "base_uri": "https://localhost:8080/"
        },
        "id": "XIXufeymYVcL",
        "outputId": "7521f1fa-b3e0-45aa-8412-ad4d0c5d4bec"
      },
      "execution_count": 56,
      "outputs": [
        {
          "output_type": "stream",
          "name": "stdout",
          "text": [
            "13\n"
          ]
        }
      ]
    },
    {
      "cell_type": "code",
      "source": [
        "x *= 3\n",
        "print(x)\n",
        "# This is an efficient way of calculating 9 multiplied by 3"
      ],
      "metadata": {
        "colab": {
          "base_uri": "https://localhost:8080/"
        },
        "id": "sEbiUDMBYVZi",
        "outputId": "537fad79-c90a-4a1b-c351-7a697a4410c1"
      },
      "execution_count": 123,
      "outputs": [
        {
          "output_type": "stream",
          "name": "stdout",
          "text": [
            "27\n"
          ]
        }
      ]
    },
    {
      "cell_type": "code",
      "source": [],
      "metadata": {
        "id": "Cy4_uWb1b4Ri"
      },
      "execution_count": 123,
      "outputs": []
    },
    {
      "cell_type": "code",
      "source": [
        "# Task: Ask 2 number from user and perform the basic arithmetic operations\n",
        "# add, subtract, multiply, division\n",
        "num1 = int(input('Enter a number: ')) # ask for user to input 1st number\n",
        "num2 = int(input('Enter a second number: ')) # ask user to input the 2nd number\n",
        "\n",
        "print(f\"\\nAddition = {num1+num2}\\nSubtraction = {num1 - num2} \\nMultiplication = {num1 * num2} \\nDivision = {num1/num2}\")\n",
        "# In this code, we are adding, subtracting, multiplying and diving two numbers that the user input.\n",
        "# We print the result using the f-string method"
      ],
      "metadata": {
        "colab": {
          "base_uri": "https://localhost:8080/"
        },
        "id": "_O0vKmxOb4Ob",
        "outputId": "864058f9-40b7-4c7f-9cdc-4dd45fbeab9f"
      },
      "execution_count": 59,
      "outputs": [
        {
          "output_type": "stream",
          "name": "stdout",
          "text": [
            "Enter a number: 2\n",
            "Enter a second number: 6\n",
            "\n",
            "Addition = 8\n",
            "Subtraction = -4 \n",
            "Multiplication = 12 \n",
            "Division = 0.3333333333333333\n"
          ]
        }
      ]
    },
    {
      "cell_type": "markdown",
      "source": [
        "# Comparison operators"
      ],
      "metadata": {
        "id": "l5I73Nwob3-R"
      }
    },
    {
      "cell_type": "code",
      "source": [
        "x, y = 9,25\n",
        "# In this line, I am defininf 2 numbers"
      ],
      "metadata": {
        "id": "JfBOUFIVYVW8"
      },
      "execution_count": 60,
      "outputs": []
    },
    {
      "cell_type": "code",
      "source": [
        "print(x==y) # is x equal to y\n",
        "# In this line, we are asking the computer if 9 is -> (==) 25 which returns false because those two numbers are different"
      ],
      "metadata": {
        "colab": {
          "base_uri": "https://localhost:8080/"
        },
        "id": "wJvnkXt4YVUl",
        "outputId": "c8e7448a-084c-4b1c-acde-46ff23557245"
      },
      "execution_count": 61,
      "outputs": [
        {
          "output_type": "stream",
          "name": "stdout",
          "text": [
            "False\n"
          ]
        }
      ]
    },
    {
      "cell_type": "code",
      "source": [
        "print(x != y)\n",
        "# In this line I am asking the computer if 9 is different -> (!=) from 25 by using the not operator (!=) which returns True"
      ],
      "metadata": {
        "colab": {
          "base_uri": "https://localhost:8080/"
        },
        "id": "dTJQoA8wIay3",
        "outputId": "f5e2826e-47e1-4505-cbf8-8c1aa52987f7"
      },
      "execution_count": 71,
      "outputs": [
        {
          "output_type": "stream",
          "name": "stdout",
          "text": [
            "True\n"
          ]
        }
      ]
    },
    {
      "cell_type": "code",
      "source": [
        "print (x > y)\n",
        "# In this line, we are asking if 9 is greater than -> (>) 25 which returns false because 25 is greater than 9"
      ],
      "metadata": {
        "colab": {
          "base_uri": "https://localhost:8080/"
        },
        "id": "ScHHzxY_Iavu",
        "outputId": "f7816805-cb9e-401c-bade-044a840f1cdb"
      },
      "execution_count": 72,
      "outputs": [
        {
          "output_type": "stream",
          "name": "stdout",
          "text": [
            "False\n"
          ]
        }
      ]
    },
    {
      "cell_type": "code",
      "source": [
        "print (x < y)\n",
        "# In this line we are asking if 9 is less -> (<) than 25 which return True"
      ],
      "metadata": {
        "colab": {
          "base_uri": "https://localhost:8080/"
        },
        "id": "7XV6ByioIatN",
        "outputId": "26a9a6ed-8113-4cf8-b890-330e6346d807"
      },
      "execution_count": 73,
      "outputs": [
        {
          "output_type": "stream",
          "name": "stdout",
          "text": [
            "True\n"
          ]
        }
      ]
    },
    {
      "cell_type": "markdown",
      "source": [
        "## Logical operators"
      ],
      "metadata": {
        "id": "16EBFiAJYVSA"
      }
    },
    {
      "cell_type": "code",
      "source": [
        "x=9\n",
        "y=25\n",
        "# We are declaring 2 new variables x and y"
      ],
      "metadata": {
        "id": "shMDovknYVPJ"
      },
      "execution_count": 63,
      "outputs": []
    },
    {
      "cell_type": "code",
      "source": [
        "x"
      ],
      "metadata": {
        "colab": {
          "base_uri": "https://localhost:8080/"
        },
        "id": "4wIIYMkTYVMx",
        "outputId": "c64fb85d-f42a-4936-9464-383b7bf9f78b"
      },
      "execution_count": 64,
      "outputs": [
        {
          "output_type": "execute_result",
          "data": {
            "text/plain": [
              "9"
            ]
          },
          "metadata": {},
          "execution_count": 64
        }
      ]
    },
    {
      "cell_type": "code",
      "source": [
        "y"
      ],
      "metadata": {
        "colab": {
          "base_uri": "https://localhost:8080/"
        },
        "id": "923ElBNhwKyf",
        "outputId": "17409ac4-d176-40c1-d77c-d805073f84ae"
      },
      "execution_count": 65,
      "outputs": [
        {
          "output_type": "execute_result",
          "data": {
            "text/plain": [
              "25"
            ]
          },
          "metadata": {},
          "execution_count": 65
        }
      ]
    },
    {
      "cell_type": "code",
      "source": [
        "print(x > 5 and y < 30)\n",
        "# We are using 'and' from the truth table to see if these 2 statement are\n",
        "# true"
      ],
      "metadata": {
        "colab": {
          "base_uri": "https://localhost:8080/"
        },
        "id": "bKAQwyUnwKvk",
        "outputId": "72f39c8c-28ea-4a3f-fc0b-9af3ccd23b48"
      },
      "execution_count": 66,
      "outputs": [
        {
          "output_type": "stream",
          "name": "stdout",
          "text": [
            "True\n"
          ]
        }
      ]
    },
    {
      "cell_type": "code",
      "source": [
        "print (x > 5 or y < 30)\n",
        "# We are using 'or' from the truth table to see if 1 of the 2 statement\n",
        "# is true"
      ],
      "metadata": {
        "colab": {
          "base_uri": "https://localhost:8080/"
        },
        "id": "cRBfoygpJdIf",
        "outputId": "275653bb-10de-47c9-c23d-4c218bc9a1bf"
      },
      "execution_count": 74,
      "outputs": [
        {
          "output_type": "stream",
          "name": "stdout",
          "text": [
            "True\n"
          ]
        }
      ]
    },
    {
      "cell_type": "code",
      "source": [
        "print(not(x > 5))\n",
        "# In this code, we are saying that the statement if not true by wraping\n",
        "# the stating in a not() format"
      ],
      "metadata": {
        "colab": {
          "base_uri": "https://localhost:8080/"
        },
        "id": "2xW6_MJKJift",
        "outputId": "c11f9e47-b693-4ed4-cd75-49fce0a99447"
      },
      "execution_count": 75,
      "outputs": [
        {
          "output_type": "stream",
          "name": "stdout",
          "text": [
            "False\n"
          ]
        }
      ]
    },
    {
      "cell_type": "code",
      "source": [
        "result = 5.3 * 8.58 >= 3.23 * 15.3\n",
        "print(result)\n",
        "# Here, we are performing a set of operations to determine whether\n",
        "# the statement is true or not"
      ],
      "metadata": {
        "colab": {
          "base_uri": "https://localhost:8080/"
        },
        "id": "8IS6izAZJp9x",
        "outputId": "847f2541-4968-4a17-ab5a-21db6f430806"
      },
      "execution_count": 76,
      "outputs": [
        {
          "output_type": "stream",
          "name": "stdout",
          "text": [
            "False\n"
          ]
        }
      ]
    },
    {
      "cell_type": "code",
      "source": [
        "print(\"cat\" == \"cat\")\n",
        "# We are checking the 2 string are identical by\n",
        "# using the is -> (==) operator"
      ],
      "metadata": {
        "colab": {
          "base_uri": "https://localhost:8080/"
        },
        "id": "igIe9d99Jsr_",
        "outputId": "6b204561-b610-429b-8fa2-e31effdccc6c"
      },
      "execution_count": 77,
      "outputs": [
        {
          "output_type": "stream",
          "name": "stdout",
          "text": [
            "True\n"
          ]
        }
      ]
    },
    {
      "cell_type": "code",
      "source": [
        "print(\"cat\" is not \"dog\")\n",
        "# In this code, we are declining that cat is not dog. Representation of is not -> (!=)"
      ],
      "metadata": {
        "colab": {
          "base_uri": "https://localhost:8080/"
        },
        "id": "5PMLHbWnJshX",
        "outputId": "b5757293-f42c-49a3-db4b-c11729a3e607"
      },
      "execution_count": 78,
      "outputs": [
        {
          "output_type": "stream",
          "name": "stdout",
          "text": [
            "True\n"
          ]
        },
        {
          "output_type": "stream",
          "name": "stderr",
          "text": [
            "<>:1: SyntaxWarning: \"is not\" with a literal. Did you mean \"!=\"?\n",
            "<>:1: SyntaxWarning: \"is not\" with a literal. Did you mean \"!=\"?\n",
            "<ipython-input-78-5594a05aa962>:1: SyntaxWarning: \"is not\" with a literal. Did you mean \"!=\"?\n",
            "  print(\"cat\" is not \"dog\")\n"
          ]
        }
      ]
    },
    {
      "cell_type": "code",
      "source": [
        "fruit = \"banana\"\n",
        "print(\"na\" in fruit) # checking if the characters 'na' are in the string 'banana' which is true\n",
        "print(\"na\" not in fruit) # checking if the characters 'na' are not in the string 'banana' which is false"
      ],
      "metadata": {
        "colab": {
          "base_uri": "https://localhost:8080/"
        },
        "id": "vMuT_qv_JpqR",
        "outputId": "0a58f49f-d1d4-4ea9-ef2e-ddd251643a93"
      },
      "execution_count": 79,
      "outputs": [
        {
          "output_type": "stream",
          "name": "stdout",
          "text": [
            "True\n",
            "False\n"
          ]
        }
      ]
    },
    {
      "cell_type": "markdown",
      "source": [
        "# Collection Data Types"
      ],
      "metadata": {
        "id": "3yZt6RZxwKla"
      }
    },
    {
      "cell_type": "code",
      "source": [
        "numbers = [3,7,5,4,7,5,6,3,3,3,3] # we created an array\n",
        "print(numbers)\n",
        "print(numbers[1]) # this line prints the element in the 2nd index of the array. We count positions in array starting from 0\n",
        "print(numbers[-1])  # this line prints the element in the 1st index of the array. We count positions in array starting from 0"
      ],
      "metadata": {
        "colab": {
          "base_uri": "https://localhost:8080/"
        },
        "id": "H0RNAvh5wKi3",
        "outputId": "b60a994a-015b-4992-82cb-feb316d52941"
      },
      "execution_count": 67,
      "outputs": [
        {
          "output_type": "stream",
          "name": "stdout",
          "text": [
            "[3, 7, 5, 4, 7, 5, 6, 3, 3, 3, 3]\n",
            "7\n",
            "3\n"
          ]
        }
      ]
    },
    {
      "cell_type": "markdown",
      "source": [
        "## List"
      ],
      "metadata": {
        "id": "Vyls1mNGKgH5"
      }
    },
    {
      "cell_type": "code",
      "source": [
        "names = [\"Alice\",\"Bob\",\"Carl\", \"Dan\"]\n",
        "print(names[0])\n",
        "# In this code, we are printing the element at the 0 position in the array names[]"
      ],
      "metadata": {
        "id": "jXah6mqwwKgP",
        "colab": {
          "base_uri": "https://localhost:8080/"
        },
        "outputId": "ab73f095-d35c-4b82-8ce2-55ec73a6ab39"
      },
      "execution_count": 126,
      "outputs": [
        {
          "output_type": "stream",
          "name": "stdout",
          "text": [
            "Alice\n"
          ]
        }
      ]
    },
    {
      "cell_type": "code",
      "source": [
        "print(names[0][2])\n",
        "# In this code we are returing the 2nd character in the 1st element of the array names[]"
      ],
      "metadata": {
        "colab": {
          "base_uri": "https://localhost:8080/"
        },
        "id": "QplvSPbIKDrV",
        "outputId": "c856044e-4704-4c6b-c2db-12baa891fee6"
      },
      "execution_count": 128,
      "outputs": [
        {
          "output_type": "stream",
          "name": "stdout",
          "text": [
            "i\n"
          ]
        }
      ]
    },
    {
      "cell_type": "code",
      "source": [
        "print(names[-2])\n",
        "# In this code, we are return the 2nd element in the array starting from the end of the array name[]"
      ],
      "metadata": {
        "colab": {
          "base_uri": "https://localhost:8080/"
        },
        "id": "Py9NOkCxKDi_",
        "outputId": "4f52d984-f147-4100-f4b1-9dc3198e01db"
      },
      "execution_count": 131,
      "outputs": [
        {
          "output_type": "stream",
          "name": "stdout",
          "text": [
            "Carl\n"
          ]
        }
      ]
    },
    {
      "cell_type": "code",
      "source": [
        "print(names[1:3])\n",
        "# In this code, we are printing the items starting from position 1 to position 3"
      ],
      "metadata": {
        "colab": {
          "base_uri": "https://localhost:8080/"
        },
        "id": "AViX_F4BKDgI",
        "outputId": "d41bda72-dd51-4b34-b06b-2e87ff19d25e"
      },
      "execution_count": 83,
      "outputs": [
        {
          "output_type": "stream",
          "name": "stdout",
          "text": [
            "['Bob', 'Carol']\n"
          ]
        }
      ]
    },
    {
      "cell_type": "code",
      "source": [
        "print(names[0:-1])\n",
        "# Here, we are printing the element in the 1st position to the 2nd before last"
      ],
      "metadata": {
        "colab": {
          "base_uri": "https://localhost:8080/"
        },
        "id": "slDgYFU3KDdQ",
        "outputId": "eaaff53b-777b-4a6d-86aa-204311e8b394"
      },
      "execution_count": 86,
      "outputs": [
        {
          "output_type": "stream",
          "name": "stdout",
          "text": [
            "['Alice', 'Bob', 'Carl']\n"
          ]
        }
      ]
    },
    {
      "cell_type": "code",
      "source": [
        "print(names[0:])\n",
        "# In this line, we are printing the element in the 0 position to the last since there was no 2nd parameter"
      ],
      "metadata": {
        "colab": {
          "base_uri": "https://localhost:8080/"
        },
        "id": "v1FzMVOuKTNE",
        "outputId": "bd6fc0d1-4a70-48c6-cc5e-40854ae7a654"
      },
      "execution_count": 134,
      "outputs": [
        {
          "output_type": "stream",
          "name": "stdout",
          "text": [
            "['Alice', 'Bob', 'Carl', 'Dan']\n"
          ]
        }
      ]
    },
    {
      "cell_type": "code",
      "source": [
        "names[1] = \"Jane\"\n",
        "print(names)\n",
        "# In this code, we're replacing the element in the 1st position 'Bob' with 'Jane"
      ],
      "metadata": {
        "colab": {
          "base_uri": "https://localhost:8080/"
        },
        "id": "Y2nBkj8vKTCb",
        "outputId": "10f634bc-99f2-41e3-9076-a8a7515956e2"
      },
      "execution_count": 135,
      "outputs": [
        {
          "output_type": "stream",
          "name": "stdout",
          "text": [
            "['Alice', 'Jane', 'Carl', 'Dan']\n"
          ]
        }
      ]
    },
    {
      "cell_type": "code",
      "source": [
        "# Class exercise\n",
        "# Ask for 10 items and store in a list\n",
        "\n",
        "# Method 1 using split() method\n",
        "list2 = [] # define an empty array\n",
        "data = input(\"Enter 10 items of your choice: \") # user input of their choice\n",
        "list2 = data.split() # split() method to\n",
        "print(list2)\n",
        "# The code above uses the split() method with no argument to seperate the list of items that the user input into an array.\n",
        "\n",
        "\n",
        "# Method 2 using for loop\n",
        "# list1=[]\n",
        "# for x in range(10):\n",
        "#   data = input(\"Enter 10 items of your choice: \")\n",
        "#   list1.append(data)\n",
        "# print(list1)"
      ],
      "metadata": {
        "colab": {
          "base_uri": "https://localhost:8080/"
        },
        "id": "seeIK5LYwKbh",
        "outputId": "b0be0cff-03a7-4caa-c4ee-2ada54f66426"
      },
      "execution_count": 137,
      "outputs": [
        {
          "output_type": "stream",
          "name": "stdout",
          "text": [
            "Enter 10 items of your choice: 1 2 3 4 5 6 7 8 9 10 11 12\n",
            "['1', '2', '3', '4', '5', '6', '7', '8', '9', '10', '11', '12']\n"
          ]
        }
      ]
    },
    {
      "cell_type": "code",
      "source": [
        "\n"
      ],
      "metadata": {
        "id": "tWebwRGEwKZM"
      },
      "execution_count": 135,
      "outputs": []
    },
    {
      "cell_type": "code",
      "source": [],
      "metadata": {
        "id": "m0MEGsVEwTe7"
      },
      "execution_count": 135,
      "outputs": []
    }
  ]
}